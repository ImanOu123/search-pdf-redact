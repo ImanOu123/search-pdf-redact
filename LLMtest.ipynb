{
 "cells": [
  {
   "cell_type": "code",
   "execution_count": 2,
   "metadata": {},
   "outputs": [
    {
     "name": "stdout",
     "output_type": "stream",
     "text": [
      "[('Jack', 'PERSON'), ('Jill', 'PERSON'), ('Les Deux Alpes', 'LOCATION')]\n"
     ]
    }
   ],
   "source": [
    "import spacy\n",
    "\n",
    "nlp = spacy.blank(\"en\")\n",
    "nlp.add_pipe(\n",
    "    \"llm\",\n",
    "    config={\n",
    "        \"task\": {\n",
    "            \"@llm_tasks\": \"spacy.NER.v2\",\n",
    "            \"labels\": [\"PERSON\", \"ORGANISATION\", \"LOCATION\", \"PHONE NUMBER\"]\n",
    "        },\n",
    "        \"model\": {\n",
    "            \"@llm_models\": \"spacy.GPT-3-5.v1\",\n",
    "        },\n",
    "    },\n",
    ")\n",
    "nlp.initialize()\n",
    "doc = nlp(\"Jack and Jill rode up the hill in Les Deux Alpes\")\n",
    "print([(ent.text, ent.label_) for ent in doc.ents])\n"
   ]
  },
  {
   "cell_type": "code",
   "execution_count": 45,
   "metadata": {},
   "outputs": [
    {
     "name": "stdout",
     "output_type": "stream",
     "text": [
      "REGEX: \\b\\d{3}-\\d{3}-\\d{4}\\b|\\(\\d{3}\\) \\d{3}-\\d{4}\\b|\\d{4} \\d{5}\\b|\\d{3} \\d{3} \\d{4}\\b|\\d{10}\\b|\\d{3}-\\d{4}\n"
     ]
    }
   ],
   "source": [
    "# https://sourajit16-02-93.medium.com/zero-shot-named-entity-recognition-using-openai-chatgpt-api-46738191f375\n",
    "fileOpen = open(\"phone_numbers_examples.txt\", \"r\")\n",
    "data = fileOpen.read().split(\"\\n\")\n",
    "data = data[2:]\n",
    "data = \",\".join(list(filter(lambda x: x.strip(), data)))\n",
    "# print(data)\n",
    "\n",
    "import os \n",
    "\n",
    "SYSTEM_PROMPT = \"You are a smart and intelligent regex Generator system. I will provide you the examples of text you need to find a regex expression for and the output format. Do not respond with text other than that of the output format.\"\n",
    "\n",
    "USER_PROMPT_1 = \"Are you clear about your role?\"\n",
    "\n",
    "ASSISTANT_PROMPT_1 = \"Sure, I'm ready to help you with your regex task. Please provide me with the necessary information to get started.\"\n",
    "\n",
    "GUIDELINES_PROMPT = \"Examples:\\n\" + data + \"\\n\" + \"Output Format:\\n\" + \"REGEX: [regex expression]\"\n",
    "\n",
    "import openai\n",
    "\n",
    "openai.api_key = os.getenv(\"OPENAI_API_KEY\")\n",
    "\n",
    "def openai_chat_completion_response(final_prompt):\n",
    "  response = openai.ChatCompletion.create(\n",
    "              model=\"gpt-3.5-turbo\",\n",
    "              messages=[\n",
    "                    {\"role\": \"system\", \"content\": SYSTEM_PROMPT},\n",
    "                    {\"role\": \"user\", \"content\": USER_PROMPT_1},\n",
    "                    {\"role\": \"assistant\", \"content\": ASSISTANT_PROMPT_1},\n",
    "                    {\"role\": \"user\", \"content\": final_prompt}\n",
    "                ]\n",
    "            )\n",
    "\n",
    "  return response['choices'][0]['message']['content'].strip(\" \\n\")\n",
    "\n",
    "# my_sentence = \"Hanyu Pinyin worked under Christopher in the same project for 2 years and the project started on 24-06-2018.\"\n",
    "# GUIDELINES_PROMPT = GUIDELINES_PROMPT.format(my_sentence)\n",
    "ners = openai_chat_completion_response(GUIDELINES_PROMPT)\n",
    "print(ners)"
   ]
  },
  {
   "cell_type": "code",
   "execution_count": 55,
   "metadata": {},
   "outputs": [
    {
     "name": "stdout",
     "output_type": "stream",
     "text": [
      "['123-1234', '124-2312']\n"
     ]
    }
   ],
   "source": [
    "import re\n",
    "h = re.findall(ners, \"123-1234 124-2312\")\n",
    "print(h)"
   ]
  },
  {
   "cell_type": "code",
   "execution_count": null,
   "metadata": {},
   "outputs": [],
   "source": []
  }
 ],
 "metadata": {
  "kernelspec": {
   "display_name": "senv",
   "language": "python",
   "name": "senv"
  },
  "language_info": {
   "codemirror_mode": {
    "name": "ipython",
    "version": 3
   },
   "file_extension": ".py",
   "mimetype": "text/x-python",
   "name": "python",
   "nbconvert_exporter": "python",
   "pygments_lexer": "ipython3",
   "version": "3.11.0"
  }
 },
 "nbformat": 4,
 "nbformat_minor": 4
}
