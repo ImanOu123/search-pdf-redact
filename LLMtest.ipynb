{
 "cells": [
  {
   "cell_type": "code",
   "execution_count": 2,
   "metadata": {},
   "outputs": [
    {
     "name": "stdout",
     "output_type": "stream",
     "text": [
      "[('Jack', 'PERSON'), ('Jill', 'PERSON'), ('Les Deux Alpes', 'LOCATION')]\n"
     ]
    }
   ],
   "source": [
    "import spacy\n",
    "\n",
    "nlp = spacy.blank(\"en\")\n",
    "nlp.add_pipe(\n",
    "    \"llm\",\n",
    "    config={\n",
    "        \"task\": {\n",
    "            \"@llm_tasks\": \"spacy.NER.v2\",\n",
    "            \"labels\": [\"PERSON\", \"ORGANISATION\", \"LOCATION\", \"PHONE NUMBER\"]\n",
    "        },\n",
    "        \"model\": {\n",
    "            \"@llm_models\": \"spacy.GPT-3-5.v1\",\n",
    "        },\n",
    "    },\n",
    ")\n",
    "nlp.initialize()\n",
    "doc = nlp(\"Jack and Jill rode up the hill in Les Deux Alpes\")\n",
    "print([(ent.text, ent.label_) for ent in doc.ents])\n"
   ]
  },
  {
   "cell_type": "code",
   "execution_count": 9,
   "metadata": {},
   "outputs": [
    {
     "name": "stdout",
     "output_type": "stream",
     "text": [
      "Entity Definition:\n",
      "1. PERSON: Short name or full name of a person from any geographic regions.\n",
      "2. DATE: Any format of dates. Dates can also be in natural language.\n",
      "3. LOC: Name of any geographic location, like cities, countries, continents, districts etc.\n",
      "\n",
      "Output Format:\n",
      "{'PERSON': [list of entities present], 'DATE': [list of entities present], 'LOC': [list of entities present]}\n",
      "If no entities are presented in any categories keep it None\n",
      "\n",
      "Examples:\n",
      "\n",
      "1. Sentence: Mr. Jacob lives in Madrid since 12th January 2015.\n",
      "Output: {'PERSON': ['Mr. Jacob'], 'DATE': ['12th January 2015'], 'LOC': ['Madrid']}\n",
      "\n",
      "2. Sentence: Mr. Rajeev Mishra and Sunita Roy are friends and they meet each other on 24/03/1998.\n",
      "Output: {'PERSON': ['Mr. Rajeev Mishra', 'Sunita Roy'], 'DATE': ['24/03/1998'], 'LOC': ['None']}\n",
      "\n",
      "3. Sentence: Hanyu Pinyin worked under Christopher in the same project for 2 years and the project started on 24-06-2018.\n",
      "Output: \n",
      "{\n",
      "  \"id\": \"chatcmpl-7r7L7uDQdUpoMpbuTkFe5KgoDtoYh\",\n",
      "  \"object\": \"chat.completion\",\n",
      "  \"created\": 1692893953,\n",
      "  \"model\": \"gpt-3.5-turbo-0613\",\n",
      "  \"choices\": [\n",
      "    {\n",
      "      \"index\": 0,\n",
      "      \"message\": {\n",
      "        \"role\": \"assistant\",\n",
      "        \"content\": \"{'PERSON': ['Hanyu Pinyin', 'Christopher'], 'DATE': ['2 years', '24-06-2018'], 'LOC': ['None']}\"\n",
      "      },\n",
      "      \"finish_reason\": \"stop\"\n",
      "    }\n",
      "  ],\n",
      "  \"usage\": {\n",
      "    \"prompt_tokens\": 349,\n",
      "    \"completion_tokens\": 34,\n",
      "    \"total_tokens\": 383\n",
      "  }\n",
      "}\n"
     ]
    }
   ],
   "source": [
    "# https://sourajit16-02-93.medium.com/zero-shot-named-entity-recognition-using-openai-chatgpt-api-46738191f375\n",
    "import os \n",
    "\n",
    "SYSTEM_PROMPT = \"You are a smart and intelligent Named Entity Recognition (NER) system. I will provide you the definition of the entities you need to extract, the sentence from where your extract the entities and the output format with examples.\"\n",
    "\n",
    "USER_PROMPT_1 = \"Are you clear about your role?\"\n",
    "\n",
    "ASSISTANT_PROMPT_1 = \"Sure, I'm ready to help you with your NER task. Please provide me with the necessary information to get started.\"\n",
    "\n",
    "GUIDELINES_PROMPT = (\n",
    "    \"Entity Definition:\\n\"\n",
    "    \"1. PERSON: Short name or full name of a person from any geographic regions.\\n\"\n",
    "    \"2. DATE: Any format of dates. Dates can also be in natural language.\\n\"\n",
    "    \"3. LOC: Name of any geographic location, like cities, countries, continents, districts etc.\\n\"\n",
    "    \"\\n\"\n",
    "    \"Output Format:\\n\"\n",
    "    \"{{'PERSON': [list of entities present], 'DATE': [list of entities present], 'LOC': [list of entities present]}}\\n\"\n",
    "    \"If no entities are presented in any categories keep it None\\n\"\n",
    "    \"\\n\"\n",
    "    \"Examples:\\n\"\n",
    "    \"\\n\"\n",
    "    \"1. Sentence: Mr. Jacob lives in Madrid since 12th January 2015.\\n\"\n",
    "    \"Output: {{'PERSON': ['Mr. Jacob'], 'DATE': ['12th January 2015'], 'LOC': ['Madrid']}}\\n\"\n",
    "    \"\\n\"\n",
    "    \"2. Sentence: Mr. Rajeev Mishra and Sunita Roy are friends and they meet each other on 24/03/1998.\\n\"\n",
    "    \"Output: {{'PERSON': ['Mr. Rajeev Mishra', 'Sunita Roy'], 'DATE': ['24/03/1998'], 'LOC': ['None']}}\\n\"\n",
    "    \"\\n\"\n",
    "    \"3. Sentence: {}\\n\"\n",
    "    \"Output: \"\n",
    ")\n",
    "\n",
    "import openai\n",
    "\n",
    "openai.api_key = os.getenv(\"OPENAI_API_KEY\")\n",
    "\n",
    "def openai_chat_completion_response(final_prompt):\n",
    "  response = openai.ChatCompletion.create(\n",
    "              model=\"gpt-3.5-turbo\",\n",
    "              messages=[\n",
    "                    {\"role\": \"system\", \"content\": SYSTEM_PROMPT},\n",
    "                    {\"role\": \"user\", \"content\": USER_PROMPT_1},\n",
    "                    {\"role\": \"assistant\", \"content\": ASSISTANT_PROMPT_1},\n",
    "                    {\"role\": \"user\", \"content\": final_prompt}\n",
    "                ]\n",
    "            )\n",
    "\n",
    "  return response['choices'][0]['message']['content'].strip(\" \\n\")\n",
    "\n",
    "my_sentence = \"Hanyu Pinyin worked under Christopher in the same project for 2 years and the project started on 24-06-2018.\"\n",
    "GUIDELINES_PROMPT = GUIDELINES_PROMPT.format(my_sentence)\n",
    "ners = openai_chat_completion_response(GUIDELINES_PROMPT)\n",
    "print(ners)"
   ]
  },
  {
   "cell_type": "code",
   "execution_count": 35,
   "metadata": {},
   "outputs": [
    {
     "name": "stdout",
     "output_type": "stream",
     "text": [
      "[0-9]{3}-[0-9]{3}-[0-9]{4},\\([0-9]{3}\\) [0-9]{3}-[0-9]{4},[0-9]{4} [0-9]{5},[0-9]{3} [0-9]{3} [0-9]{4},[0-9]{10},[0-9]{3}-[0-9]{4}\n"
     ]
    }
   ],
   "source": [
    "import openai\n",
    "openai.api_key = os.getenv(\"OPENAI_API_KEY\")\n",
    "\n",
    "SYSTEM_PROMPT = \"You are a smart and intelligent regEx generator system. I will provide you examples of text.\"\n",
    "\n",
    "examplesInput = []\n",
    "\n",
    "fileOpen = open(\"phone_numbers_examples.txt\", \"r\")\n",
    "data = fileOpen.read().split(\"\\n\")\n",
    "data = data[2:]\n",
    "data = \",\".join(list(filter(lambda x: x.strip(), data)))\n",
    "# print(data)\n",
    "\n",
    "prompt = \"provide a regex expression for each of the following phrases separated by a comma. give me the regex with no other information and separate each regex expression with a comma. do not create a regex expression that is a copy of the original text. encapsulate each of the expressions in bracketsthe phrases are:\"+ data\n",
    "# write me a regex expression  separated by a comma without any other information for each text separated by a comma for the following:\" + data\n",
    "\n",
    "def openai_chat_completion_response(prompt):\n",
    "    response = openai.ChatCompletion.create(\n",
    "              model=\"gpt-3.5-turbo\",\n",
    "              messages=[{\"role\": \"user\", \"content\": prompt}])\n",
    "    return response['choices'][0]['message']['content'].strip()\n",
    "\n",
    "print(openai_chat_completion_response(prompt))\n",
    "\n"
   ]
  },
  {
   "cell_type": "code",
   "execution_count": null,
   "metadata": {},
   "outputs": [],
   "source": []
  }
 ],
 "metadata": {
  "kernelspec": {
   "display_name": "senv",
   "language": "python",
   "name": "senv"
  },
  "language_info": {
   "codemirror_mode": {
    "name": "ipython",
    "version": 3
   },
   "file_extension": ".py",
   "mimetype": "text/x-python",
   "name": "python",
   "nbconvert_exporter": "python",
   "pygments_lexer": "ipython3",
   "version": "3.11.0"
  }
 },
 "nbformat": 4,
 "nbformat_minor": 4
}
