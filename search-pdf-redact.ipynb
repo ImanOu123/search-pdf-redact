{
 "cells": [
  {
   "cell_type": "code",
   "execution_count": 1,
   "metadata": {},
   "outputs": [
    {
     "data": {
      "application/vnd.jupyter.widget-view+json": {
       "model_id": "08754f512dd24a26bdbfca306f88dda8",
       "version_major": 2,
       "version_minor": 0
      },
      "text/plain": [
       "HTML(value='Upload Files for Searching')"
      ]
     },
     "metadata": {},
     "output_type": "display_data"
    },
    {
     "data": {
      "application/vnd.jupyter.widget-view+json": {
       "model_id": "004468bfcf064fcc8f69cc6787f64a41",
       "version_major": 2,
       "version_minor": 0
      },
      "text/plain": [
       "FileUpload(value=(), accept='.pdf', description='Upload', multiple=True)"
      ]
     },
     "metadata": {},
     "output_type": "display_data"
    },
    {
     "data": {
      "application/vnd.jupyter.widget-view+json": {
       "model_id": "e1d0595a687741ab937da5105f5ea887",
       "version_major": 2,
       "version_minor": 0
      },
      "text/plain": [
       "Output()"
      ]
     },
     "metadata": {},
     "output_type": "display_data"
    }
   ],
   "source": [
    "import ipywidgets as widgets\n",
    "from IPython.display import display\n",
    "import warnings\n",
    "import PyPDF2\n",
    "import datetime\n",
    "import functools\n",
    "\n",
    "warnings.filterwarnings('ignore')\n",
    "\n",
    "# Create the file upload widget\n",
    "search_file_upload = widgets.FileUpload(\n",
    "    accept='.pdf',  # Accepted file types (e.g., '.txt', '.pdf', '.jpg', '.csv', etc.); leave empty for all file types\n",
    "    multiple=True  # Set to True if you want to allow multiple files to be uploaded\n",
    ")\n",
    "\n",
    "fileListOutputSEARCH = widgets.Output()\n",
    "\n",
    "txt = widgets.HTML(\"Upload Files for Searching\")\n",
    "\n",
    "# Display the widget\n",
    "display(txt, search_file_upload, fileListOutputSEARCH)\n",
    "\n",
    "ongFileUploadValsSEARCH = []\n",
    "\n",
    "def on_value_changeSEARCH(change):\n",
    "    global ongFileUploadValsSEARCH\n",
    "    global search_file_upload\n",
    "    \n",
    "    if (ongFileUploadValsSEARCH ==  [] and list(search_file_upload.value) == []) or ongFileUploadValsSEARCH != list(search_file_upload.value):\n",
    "\n",
    "        @fileListOutputSEARCH.capture()\n",
    "        def file_list_output_render():\n",
    "            global ongFileUploadValsSEARCH\n",
    "            \n",
    "            fileListOutputSEARCH.clear_output()\n",
    "            display(widgets.Label(\"Uploaded Files:\"))\n",
    "            \n",
    "            if change != {}:\n",
    "\n",
    "                # set search_file_upload to previous search_file_upload and current search_file_upload files\n",
    "                updatedFileUploadVal = []\n",
    "                for file in ongFileUploadValsSEARCH:\n",
    "                    updatedFileUploadVal.append(file)\n",
    "\n",
    "                for file in search_file_upload.value:\n",
    "                    if file not in updatedFileUploadVal:\n",
    "                        updatedFileUploadVal.append(file)\n",
    "\n",
    "                # update ong_file_upload value\n",
    "                ongFileUploadValsSEARCH = updatedFileUploadVal\n",
    "            \n",
    "                for file in ongFileUploadValsSEARCH:\n",
    "                    # extract number of pages of uploaded files\n",
    "                    \n",
    "                    fileOpen = open(file['name'], 'rb')\n",
    "                    reader = PyPDF2.PdfReader(fileOpen)\n",
    "                    totalPgs = len(reader.pages)\n",
    "                    remButton = widgets.Button(description='Remove')\n",
    "                    \n",
    "                    def remove_button_onclick(button, fileInfo=\"\"):\n",
    "                        global ongFileUploadValsSEARCH\n",
    "                        # update search_file_upload.value to remove chosen file\n",
    "                        newVal = []\n",
    "                        for file in search_file_upload.value:\n",
    "                            if file['name'] != fileInfo:\n",
    "                                newVal.append(file)\n",
    "                        ongFileUploadValsSEARCH = []\n",
    "                        search_file_upload.value = tuple(newVal)\n",
    "                        \n",
    "                    remButton.on_click(functools.partial(remove_button_onclick, fileInfo=file['name']))\n",
    "                    \n",
    "                    display(widgets.Label(\"\\n  file name: \" + file['name'] + \"  #pages: \" + str(totalPgs)), remButton)\n",
    "\n",
    "                    search_file_upload.value = tuple(updatedFileUploadVal)\n",
    "\n",
    "        file_list_output_render()\n",
    "\n",
    "search_file_upload.observe(on_value_changeSEARCH, names='value')"
   ]
  },
  {
   "cell_type": "code",
   "execution_count": 2,
   "metadata": {},
   "outputs": [
    {
     "data": {
      "application/vnd.jupyter.widget-view+json": {
       "model_id": "bd11bdac725d4996afa499be7975079c",
       "version_major": 2,
       "version_minor": 0
      },
      "text/plain": [
       "HTML(value='Upload Files for Sample Data')"
      ]
     },
     "metadata": {},
     "output_type": "display_data"
    },
    {
     "data": {
      "application/vnd.jupyter.widget-view+json": {
       "model_id": "46cc89edfb7f45bc8963b50b15aadaa5",
       "version_major": 2,
       "version_minor": 0
      },
      "text/plain": [
       "FileUpload(value=(), accept='.txt', description='Upload', multiple=True)"
      ]
     },
     "metadata": {},
     "output_type": "display_data"
    },
    {
     "data": {
      "application/vnd.jupyter.widget-view+json": {
       "model_id": "70917b6b4eb04ec6871ac64f5a71eacb",
       "version_major": 2,
       "version_minor": 0
      },
      "text/plain": [
       "Output()"
      ]
     },
     "metadata": {},
     "output_type": "display_data"
    }
   ],
   "source": [
    "# Create the file upload widget\n",
    "examples_file_upload = widgets.FileUpload(\n",
    "    accept='.txt',  # Accepted file types (e.g., '.txt', '.pdf', '.jpg', '.csv', etc.); leave empty for all file types\n",
    "    multiple=True  # Set to True if you want to allow multiple files to be uploaded\n",
    ")\n",
    "\n",
    "fileListOutput = widgets.Output()\n",
    "\n",
    "txtSample = widgets.HTML(\"Upload Files for Sample Data\")\n",
    "\n",
    "# Display the widget\n",
    "display(txtSample, examples_file_upload, fileListOutput)\n",
    "\n",
    "ongFileUploadVals = []\n",
    "\n",
    "def on_value_change(change):\n",
    "    global ongFileUploadVals\n",
    "    global examples_file_upload\n",
    "    \n",
    "    if (ongFileUploadVals ==  [] and list(examples_file_upload.value) == []) or ongFileUploadVals != list(examples_file_upload.value):\n",
    "\n",
    "        @fileListOutput.capture()\n",
    "        def file_list_output_render():\n",
    "            global ongFileUploadVals\n",
    "            \n",
    "            fileListOutput.clear_output()\n",
    "            display(widgets.Label(\"Uploaded Files\"))\n",
    "            \n",
    "            if change != {}:\n",
    "\n",
    "                # set examples_file_upload to previous examples_file_upload and current examples_file_upload files\n",
    "                updatedFileUploadVal = []\n",
    "                for file in ongFileUploadVals:\n",
    "                    updatedFileUploadVal.append(file)\n",
    "\n",
    "                for file in examples_file_upload.value:\n",
    "                    if file not in updatedFileUploadVal:\n",
    "                        updatedFileUploadVal.append(file)\n",
    "\n",
    "                # update ong_file_upload value\n",
    "                ongFileUploadVals = updatedFileUploadVal\n",
    "            \n",
    "                for file in ongFileUploadVals:\n",
    "                    remButton = widgets.Button(description='Remove')\n",
    "                    \n",
    "                    def remove_button_onclick(button, fileInfo=\"\"):\n",
    "                        global ongFileUploadVals\n",
    "                        # update examples_file_upload.value to remove chosen file\n",
    "                        newVal = []\n",
    "                        for file in examples_file_upload.value:\n",
    "                            if file['name'] != fileInfo:\n",
    "                                newVal.append(file)\n",
    "                        ongFileUploadVals = []\n",
    "                        examples_file_upload.value = tuple(newVal)\n",
    "                        \n",
    "                    remButton.on_click(functools.partial(remove_button_onclick, fileInfo=file['name']))\n",
    "                    \n",
    "                    display(widgets.Label(\"\\n  file name: \" + file['name']), remButton)\n",
    "\n",
    "                    examples_file_upload.value = tuple(updatedFileUploadVal)\n",
    "\n",
    "        file_list_output_render()\n",
    "\n",
    "examples_file_upload.observe(on_value_change, names='value')"
   ]
  },
  {
   "cell_type": "code",
   "execution_count": 20,
   "metadata": {},
   "outputs": [
    {
     "data": {
      "application/vnd.jupyter.widget-view+json": {
       "model_id": "0b3f4ac8d7bf40e298a3a8b5702f8cd7",
       "version_major": 2,
       "version_minor": 0
      },
      "text/plain": [
       "Button(description='Clear', style=ButtonStyle())"
      ]
     },
     "metadata": {},
     "output_type": "display_data"
    },
    {
     "data": {
      "application/vnd.jupyter.widget-view+json": {
       "model_id": "1e2566b7daca4b3a8b2d424898825359",
       "version_major": 2,
       "version_minor": 0
      },
      "text/plain": [
       "Output(layout=Layout(height='100%', width='100%'))"
      ]
     },
     "metadata": {},
     "output_type": "display_data"
    }
   ],
   "source": [
    "import re\n",
    "import fitz\n",
    "import os\n",
    "import webbrowser\n",
    "import spacy\n",
    "\n",
    "# PART ONE: convert sample data to regex expressions\n",
    "\n",
    "# https://www.linkedin.com/pulse/programatically-generating-regular-expressions-from-sample-lee-de-byl/\n",
    "def expr_to_regex(txt):\n",
    "    regEx = re.escape(txt)\n",
    "    regEx = re.sub(r'([^A-Z0-9]+)', r'(\\1)', regEx)\n",
    "    regEx = re.sub(r'[A-Z]+', lambda matchobj: \"([A-Z]{\"+ str(matchobj.span()[1]-matchobj.span()[0]) +\"})\", regEx)\n",
    "    regEx = re.sub(r'[0-9]+', lambda matchobj: \"([0-9]{\"+ str(matchobj.span()[1]-matchobj.span()[0]) +\"})\", regEx)\n",
    "    \n",
    "    return '^' + regEx + '$'\n",
    "    \n",
    "# PART TWO: skim files and redact text that matches regex expressions\n",
    "nlp = spacy.load(\"en_core_web_sm\")\n",
    "\n",
    "def redact_loc_in_file(searchFileUpVal):\n",
    "    \n",
    "    # find type of redaction user wants based on first line of file\n",
    "    redactInfo = dict()\n",
    "    \n",
    "    for file in examples_file_upload.value:\n",
    "         \n",
    "        # read sample data file\n",
    "        fileOpen = open(file['name'], \"r\")\n",
    "        data = fileOpen.read().split(\"\\n\")\n",
    "\n",
    "        if data[0].strip() == \"SIMPLE REGEX\":\n",
    "            # find regex from sample data files\n",
    "            dataRegEx = []\n",
    "            for line in data[1:]:\n",
    "                if expr_to_regex(line) not in dataRegEx:\n",
    "                    dataRegEx.append(expr_to_regex(line))\n",
    "            redactInfo[file['name']] = (\"regex\", dataRegEx)\n",
    "            \n",
    "        elif data[0].strip() == \"ENTITY TYPE\":\n",
    "            # find entity type from sample data files\n",
    "            entityLst = []\n",
    "            for line in data[1:]:\n",
    "                docLine = nlp(line)\n",
    "                if docLine.ents:\n",
    "                    entityLst.append(docLine.ents[0].label_)\n",
    "            redactInfo[file['name']] = (\"entity\", max(entityLst,key=entityLst.count))\n",
    "        else:\n",
    "            redactInfo[file['name']] = (\"exact\", data)\n",
    "            \n",
    "    # generate dictionary containing information to be redacted\n",
    "    redactDict = dict()\n",
    "    \n",
    "    # for each example data look at each search file\n",
    "    for file in searchFileUpVal:\n",
    "        pdfDoc = fitz.open(file['name'])\n",
    "        \n",
    "        for pgNum in range(len(pdfDoc)):\n",
    "            page = pdfDoc[pgNum]\n",
    "\n",
    "            for exFile in redactInfo:\n",
    "                \n",
    "                if exFile not in redactDict:\n",
    "                    redactDict[exFile] = dict()\n",
    "                if file['name'] not in redactDict[exFile]:\n",
    "                    redactDict[exFile][file['name']] = []\n",
    "                \n",
    "                # iterate through regular expressions to find in search files\n",
    "                words = page.get_text(\"words\", sort=True)\n",
    "                \n",
    "                if redactInfo[exFile][0] == \"regex\":\n",
    "                    # looking words that match regex pattern\n",
    "                    for regex in dataRegEx[exFile][1]:\n",
    "                        # https://github.com/pymupdf/PyMuPDF/issues/1376\n",
    "                        search = re.compile(regex) \n",
    "                        matches = [w for w in words if search.search(w[4])]\n",
    "                        \n",
    "                elif redactInfo[exFile][0] == \"entity\":\n",
    "                    # looking for words with same entity\n",
    "                    matches = [w for w in words if nlp(w[4]).ents and nlp(w[4]).ents[0].label_ == redactInfo[exFile][1]]\n",
    "                    \n",
    "                else:\n",
    "                    # looking for words with exact matches \n",
    "                    matches = [w for w in words if w[4] in redactInfo[exFile][1]]\n",
    "                \n",
    "                redactDict[exFile][file['name']] += [(pgNum, match[0:4]) for match in matches]    \n",
    "            # print(redactDict)\n",
    "\n",
    "    return redactDict\n",
    "        \n",
    "# display files with redactions\n",
    "\n",
    "def open_file(filename, pgNum):\n",
    "    currDir = os.getcwdb()\n",
    "\n",
    "    # opens file in default browser at specific page, NOTE: assumes that file is in current directory and Chrome is installed\n",
    "    fileLoc = \"file:///\" + str(currDir)[2:][:-1] + \"/\" + filename.replace(\" \", \"%20\") + \"#page=\" + str(pgNum)\n",
    "\n",
    "    (webbrowser.get(using='chrome')).open(fileLoc)  \n",
    "    \n",
    "# to clear files after you no longer want redactions\n",
    "fileToClear = ''\n",
    "def clear_file():\n",
    "    if fileToClear != '':\n",
    "        pdfDoc = fitz.open(fileToClear)\n",
    "    \n",
    "        # iterates pages and removes annotations generated by fitz\n",
    "        for pgNum in range(len(pdfDoc)):\n",
    "            page = pdfDoc[pgNum]\n",
    "    \n",
    "            pdfDoc.xref_set_key(page.xref, \"Annots\", \"[]\")\n",
    "        \n",
    "        pdfDoc.save(fileToClear, incremental=True, encryption=fitz.PDF_ENCRYPT_KEEP)\n",
    "        \n",
    "def clear_btn_click(button): clear_file();\n",
    "clearBtn = widgets.Button(description='Clear')\n",
    "clearBtn.on_click(clear_btn_click)\n",
    "\n",
    "out = widgets.Output(layout={'width': '100%', 'height': '100%'})\n",
    "display(clearBtn, out)\n",
    "\n",
    "def redact_matches(doc, redactLst):   \n",
    "    # iterate through redactions in file \n",
    "    foundPgNum = -1\n",
    "    for (pgNum, bbox) in redactLst:\n",
    "        if foundPgNum == -1:\n",
    "            foundPgNum = pgNum + 1\n",
    "        \n",
    "        pg = doc[pgNum]\n",
    "        red = pg.add_rect_annot(bbox)\n",
    "        red.set_colors(stroke=(0,0,0))\n",
    "        red.update(opacity=0.3, fill_color=(0,0,0))\n",
    "\n",
    "    return foundPgNum\n",
    "    \n",
    "@out.capture()\n",
    "def show_results():\n",
    "    redactDict = redact_loc_in_file(search_file_upload.value)\n",
    "    \n",
    "    for exFile in redactDict:\n",
    "        labelEx = widgets.HTML(value=\"<style>p{word-wrap: break-word}</style> <p> Redaction Expressions File Name: \" + exFile + \"</p>\")\n",
    "        display(labelEx)\n",
    "\n",
    "        for searchFile in redactDict[exFile]:\n",
    "            labelSearch = widgets.HTML(value=\"<style>p{word-wrap: break-word}</style> <p> File Name: \" + searchFile + \"</p>\")\n",
    "            display(labelSearch)\n",
    "\n",
    "            redactButton = widgets.Button(description='Redact')\n",
    "\n",
    "            def on_redact_button_click(button, info=(dict(), \"\", \"\")):\n",
    "                global fileToClear\n",
    "                \n",
    "                doc = fitz.open(info[2])\n",
    "                foundPgNum = redact_matches(doc, info[0][info[1]][info[2]])\n",
    "                doc.save(info[2], incremental=True, encryption=fitz.PDF_ENCRYPT_KEEP)\n",
    "                \n",
    "                fileToClear = info[2]\n",
    "                open_file(info[2], foundPgNum)\n",
    "\n",
    "            redactButton.on_click(functools.partial(on_redact_button_click, info=(redactDict, exFile, searchFile)))\n",
    "            display(redactButton)\n",
    "            \n",
    "show_results()"
   ]
  },
  {
   "cell_type": "code",
   "execution_count": 4,
   "metadata": {
    "jupyter": {
     "source_hidden": true
    }
   },
   "outputs": [],
   "source": [
    "# import re\n",
    "# def id_to_regex(id):\n",
    "#     x = re.escape(id)\n",
    "#     x = re.sub(r'([^A-Z0-9]+)', r'(\\1)', x)\n",
    "\n",
    "#     # reg = re.compile()\n",
    "#     print(re.findall(r'[0-9]+', x))\n",
    "\n",
    "#     def numrepl(matchobj):\n",
    "#         return \"([0-9]{\"+ str(matchobj.span()[1]-matchobj.span()[0]) +\"})\"\n",
    "        \n",
    "#     # x = re.sub(r'[A-Z]+', r'([A-Z)]+)', x, )\n",
    "#     x = re.sub(r'[0-9]+', numrepl, x)\n",
    "\n",
    "#     return '^' + x + '$'\n",
    "\n",
    "# txt = \"1/3/1020\"\n",
    "# # print(id_to_regex(txt))\n",
    "\n",
    "# print(id_to_regex(txt))\n",
    "\n",
    "# import fitz \n",
    "\n",
    "# search = re.compile(id_to_regex(txt))  # matching pattern]\n",
    "# doc = fitz.open('monroe_county_inmate_roster.pdf')\n",
    "# words = doc[0].get_text(\"words\", sort=True)\n",
    "# # print(words)\n",
    "# matches = []\n",
    "# for w in words:\n",
    "#     # print(w)\n",
    "#     if search.search(w[4]):\n",
    "#         matches.append(w)\n",
    "# print([match[0:4] for match in matches])\n"
   ]
  },
  {
   "cell_type": "code",
   "execution_count": 5,
   "metadata": {},
   "outputs": [
    {
     "name": "stdout",
     "output_type": "stream",
     "text": [
      "DATE\n",
      "August 8th, 2023 0 16 DATE\n"
     ]
    }
   ],
   "source": [
    "import spacy\n",
    "\n",
    "nlp = spacy.load(\"en_core_web_sm\")\n",
    "doc = nlp(\"August 8th, 2023\")\n",
    "\n",
    "print(doc.ents[0].label_)\n",
    "for ent in doc.ents:\n",
    "    print(ent.text, ent.start_char, ent.end_char, ent.label_)"
   ]
  },
  {
   "cell_type": "code",
   "execution_count": null,
   "metadata": {},
   "outputs": [],
   "source": []
  }
 ],
 "metadata": {
  "kernelspec": {
   "display_name": "senv",
   "language": "python",
   "name": "senv"
  },
  "language_info": {
   "codemirror_mode": {
    "name": "ipython",
    "version": 3
   },
   "file_extension": ".py",
   "mimetype": "text/x-python",
   "name": "python",
   "nbconvert_exporter": "python",
   "pygments_lexer": "ipython3",
   "version": "3.11.0"
  }
 },
 "nbformat": 4,
 "nbformat_minor": 4
}
