{
 "cells": [
  {
   "cell_type": "code",
   "execution_count": 1,
   "metadata": {},
   "outputs": [
    {
     "data": {
      "application/vnd.jupyter.widget-view+json": {
       "model_id": "8269f0ea96cc4b519ab7461053757a4a",
       "version_major": 2,
       "version_minor": 0
      },
      "text/plain": [
       "HTML(value='Upload Files for Searching')"
      ]
     },
     "metadata": {},
     "output_type": "display_data"
    },
    {
     "data": {
      "application/vnd.jupyter.widget-view+json": {
       "model_id": "1dae65a9c3f641cfac3260a2a10ceb75",
       "version_major": 2,
       "version_minor": 0
      },
      "text/plain": [
       "FileUpload(value=(), accept='.pdf', description='Upload', multiple=True)"
      ]
     },
     "metadata": {},
     "output_type": "display_data"
    },
    {
     "data": {
      "application/vnd.jupyter.widget-view+json": {
       "model_id": "885de672226c4767987f9eb51e371bf2",
       "version_major": 2,
       "version_minor": 0
      },
      "text/plain": [
       "Output()"
      ]
     },
     "metadata": {},
     "output_type": "display_data"
    }
   ],
   "source": [
    "import ipywidgets as widgets\n",
    "from IPython.display import display\n",
    "import warnings\n",
    "import PyPDF2\n",
    "import datetime\n",
    "import functools\n",
    "\n",
    "warnings.filterwarnings('ignore')\n",
    "\n",
    "# Create the file upload widget\n",
    "search_file_upload = widgets.FileUpload(\n",
    "    accept='.pdf',  # Accepted file types (e.g., '.txt', '.pdf', '.jpg', '.csv', etc.); leave empty for all file types\n",
    "    multiple=True  # Set to True if you want to allow multiple files to be uploaded\n",
    ")\n",
    "\n",
    "fileListOutputSEARCH = widgets.Output()\n",
    "\n",
    "txt = widgets.HTML(\"Upload Files for Searching\")\n",
    "\n",
    "# Display the widget\n",
    "display(txt, search_file_upload, fileListOutputSEARCH)\n",
    "\n",
    "ongFileUploadValsSEARCH = []\n",
    "\n",
    "def on_value_changeSEARCH(change):\n",
    "    global ongFileUploadValsSEARCH\n",
    "    global search_file_upload\n",
    "    \n",
    "    if (ongFileUploadValsSEARCH ==  [] and list(search_file_upload.value) == []) or ongFileUploadValsSEARCH != list(search_file_upload.value):\n",
    "\n",
    "        @fileListOutputSEARCH.capture()\n",
    "        def file_list_output_render():\n",
    "            global ongFileUploadValsSEARCH\n",
    "            \n",
    "            fileListOutputSEARCH.clear_output()\n",
    "            display(widgets.Label(\"Uploaded Files:\"))\n",
    "            \n",
    "            if change != {}:\n",
    "\n",
    "                # set search_file_upload to previous search_file_upload and current search_file_upload files\n",
    "                updatedFileUploadVal = []\n",
    "                for file in ongFileUploadValsSEARCH:\n",
    "                    updatedFileUploadVal.append(file)\n",
    "\n",
    "                for file in search_file_upload.value:\n",
    "                    if file not in updatedFileUploadVal:\n",
    "                        updatedFileUploadVal.append(file)\n",
    "\n",
    "                # update ong_file_upload value\n",
    "                ongFileUploadValsSEARCH = updatedFileUploadVal\n",
    "            \n",
    "                for file in ongFileUploadValsSEARCH:\n",
    "                    # extract number of pages of uploaded files\n",
    "                    \n",
    "                    fileOpen = open(file['name'], 'rb')\n",
    "                    reader = PyPDF2.PdfReader(fileOpen)\n",
    "                    totalPgs = len(reader.pages)\n",
    "                    remButton = widgets.Button(description='Remove')\n",
    "                    \n",
    "                    def remove_button_onclick(button, fileInfo=\"\"):\n",
    "                        global ongFileUploadValsSEARCH\n",
    "                        # update search_file_upload.value to remove chosen file\n",
    "                        newVal = []\n",
    "                        for file in search_file_upload.value:\n",
    "                            if file['name'] != fileInfo:\n",
    "                                newVal.append(file)\n",
    "                        ongFileUploadValsSEARCH = []\n",
    "                        search_file_upload.value = tuple(newVal)\n",
    "                        \n",
    "                    remButton.on_click(functools.partial(remove_button_onclick, fileInfo=file['name']))\n",
    "                    \n",
    "                    display(widgets.Label(\"\\n  file name: \" + file['name'] + \"  #pages: \" + str(totalPgs)), remButton)\n",
    "\n",
    "                    search_file_upload.value = tuple(updatedFileUploadVal)\n",
    "\n",
    "        file_list_output_render()\n",
    "\n",
    "search_file_upload.observe(on_value_changeSEARCH, names='value')"
   ]
  },
  {
   "cell_type": "code",
   "execution_count": 2,
   "metadata": {},
   "outputs": [
    {
     "data": {
      "application/vnd.jupyter.widget-view+json": {
       "model_id": "aad25f4a0e924accaa7f5bf914d5af66",
       "version_major": 2,
       "version_minor": 0
      },
      "text/plain": [
       "HTML(value='Upload Files for Sample Data')"
      ]
     },
     "metadata": {},
     "output_type": "display_data"
    },
    {
     "data": {
      "application/vnd.jupyter.widget-view+json": {
       "model_id": "6159eba53f2f4dc2a302f77d266eb276",
       "version_major": 2,
       "version_minor": 0
      },
      "text/plain": [
       "FileUpload(value=(), accept='.txt', description='Upload', multiple=True)"
      ]
     },
     "metadata": {},
     "output_type": "display_data"
    },
    {
     "data": {
      "application/vnd.jupyter.widget-view+json": {
       "model_id": "8dcf4af49e814f32808a9e1ed1a408c9",
       "version_major": 2,
       "version_minor": 0
      },
      "text/plain": [
       "Output()"
      ]
     },
     "metadata": {},
     "output_type": "display_data"
    }
   ],
   "source": [
    "# Create the file upload widget\n",
    "examples_file_upload = widgets.FileUpload(\n",
    "    accept='.txt',  # Accepted file types (e.g., '.txt', '.pdf', '.jpg', '.csv', etc.); leave empty for all file types\n",
    "    multiple=True  # Set to True if you want to allow multiple files to be uploaded\n",
    ")\n",
    "\n",
    "fileListOutput = widgets.Output()\n",
    "\n",
    "txtSample = widgets.HTML(\"Upload Files for Sample Data\")\n",
    "\n",
    "# Display the widget\n",
    "display(txtSample, examples_file_upload, fileListOutput)\n",
    "\n",
    "ongFileUploadVals = []\n",
    "\n",
    "def on_value_change(change):\n",
    "    global ongFileUploadVals\n",
    "    global examples_file_upload\n",
    "    \n",
    "    if (ongFileUploadVals ==  [] and list(examples_file_upload.value) == []) or ongFileUploadVals != list(examples_file_upload.value):\n",
    "\n",
    "        @fileListOutput.capture()\n",
    "        def file_list_output_render():\n",
    "            global ongFileUploadVals\n",
    "            \n",
    "            fileListOutput.clear_output()\n",
    "            display(widgets.Label(\"Uploaded Files\"))\n",
    "            \n",
    "            if change != {}:\n",
    "\n",
    "                # set examples_file_upload to previous examples_file_upload and current examples_file_upload files\n",
    "                updatedFileUploadVal = []\n",
    "                for file in ongFileUploadVals:\n",
    "                    updatedFileUploadVal.append(file)\n",
    "\n",
    "                for file in examples_file_upload.value:\n",
    "                    if file not in updatedFileUploadVal:\n",
    "                        updatedFileUploadVal.append(file)\n",
    "\n",
    "                # update ong_file_upload value\n",
    "                ongFileUploadVals = updatedFileUploadVal\n",
    "            \n",
    "                for file in ongFileUploadVals:\n",
    "                    remButton = widgets.Button(description='Remove')\n",
    "                    \n",
    "                    def remove_button_onclick(button, fileInfo=\"\"):\n",
    "                        global ongFileUploadVals\n",
    "                        # update examples_file_upload.value to remove chosen file\n",
    "                        newVal = []\n",
    "                        for file in examples_file_upload.value:\n",
    "                            if file['name'] != fileInfo:\n",
    "                                newVal.append(file)\n",
    "                        ongFileUploadVals = []\n",
    "                        examples_file_upload.value = tuple(newVal)\n",
    "                        \n",
    "                    remButton.on_click(functools.partial(remove_button_onclick, fileInfo=file['name']))\n",
    "                    \n",
    "                    display(widgets.Label(\"\\n  file name: \" + file['name']), remButton)\n",
    "\n",
    "                    examples_file_upload.value = tuple(updatedFileUploadVal)\n",
    "\n",
    "        file_list_output_render()\n",
    "\n",
    "examples_file_upload.observe(on_value_change, names='value')"
   ]
  },
  {
   "cell_type": "code",
   "execution_count": 6,
   "metadata": {},
   "outputs": [
    {
     "data": {
      "application/vnd.jupyter.widget-view+json": {
       "model_id": "57427c728a6a43379014f7710b8d958e",
       "version_major": 2,
       "version_minor": 0
      },
      "text/plain": [
       "Button(description='Clear', style=ButtonStyle())"
      ]
     },
     "metadata": {},
     "output_type": "display_data"
    },
    {
     "data": {
      "application/vnd.jupyter.widget-view+json": {
       "model_id": "7f344114d79c4862a06cf1ca4167f368",
       "version_major": 2,
       "version_minor": 0
      },
      "text/plain": [
       "Output(layout=Layout(height='100%', width='100%'))"
      ]
     },
     "metadata": {},
     "output_type": "display_data"
    }
   ],
   "source": [
    "import re\n",
    "import fitz\n",
    "import os\n",
    "import webbrowser\n",
    "\n",
    "# PART ONE: convert sample data to regex expressions\n",
    "\n",
    "# https://www.linkedin.com/pulse/programatically-generating-regular-expressions-from-sample-lee-de-byl/\n",
    "def expr_to_regex(txt):\n",
    "    regEx = re.escape(txt)\n",
    "    regEx = re.sub(r'([^A-Z0-9]+)', r'(\\1)', regEx)\n",
    "    regEx = re.sub(r'[A-Z]+', lambda matchobj: \"([A-Z]{\"+ str(matchobj.span()[1]-matchobj.span()[0]) +\"})\", regEx)\n",
    "    regEx = re.sub(r'[0-9]+', lambda matchobj: \"([0-9]{\"+ str(matchobj.span()[1]-matchobj.span()[0]) +\"})\", regEx)\n",
    "    \n",
    "    return '^' + regEx + '$'\n",
    "    \n",
    "    \n",
    "def ex_data_to_regex(exFileUpVal):\n",
    "    fileDataRegEx = dict()\n",
    "    \n",
    "    for file in exFileUpVal:\n",
    "        # read sample data file\n",
    "        fileOpen = open(file['name'], \"r\")\n",
    "        data = fileOpen.read().split(\"\\n\")\n",
    "    \n",
    "        # convert to regex expression - simple case: same sections with alphabet/numbers with equal length, rest of characters are equal\n",
    "        dataRegEx = []\n",
    "        for line in data:\n",
    "            if expr_to_regex(line) not in dataRegEx:\n",
    "                dataRegEx.append(expr_to_regex(line))\n",
    "        fileDataRegEx[file['name']] = (dataRegEx)\n",
    "        \n",
    "    return fileDataRegEx\n",
    "\n",
    "\n",
    "# PART TWO: skim files and redact text that matches regex expressions\n",
    "\n",
    "def regex_loc_in_file(searchFileUpVal):\n",
    "    dataRegEx = ex_data_to_regex(examples_file_upload.value)\n",
    "    redactDict = dict()\n",
    "    \n",
    "    # for each example data look at each search file\n",
    "    for file in searchFileUpVal:\n",
    "        pdfDoc = fitz.open(file['name'])\n",
    "        \n",
    "        for pgNum in range(len(pdfDoc)):\n",
    "            page = pdfDoc[pgNum]\n",
    "\n",
    "            for exFile in dataRegEx:\n",
    "                if exFile not in redactDict:\n",
    "                    redactDict[exFile] = dict()\n",
    "                if file['name'] not in redactDict[exFile]:\n",
    "                    redactDict[exFile][file['name']] = []\n",
    "\n",
    "                # iterate through regular expressions to find in search files\n",
    "                for regex in dataRegEx[exFile]:\n",
    "\n",
    "                    # https://github.com/pymupdf/PyMuPDF/issues/1376\n",
    "                    search = re.compile(regex) \n",
    "                    words = page.get_text(\"words\", sort=True)\n",
    "                    matches = [w for w in words if search.search(w[4])]\n",
    "                    \n",
    "                    redactDict[exFile][file['name']] += [(pgNum, match[0:4]) for match in matches]\n",
    "\n",
    "    return redactDict\n",
    "        \n",
    "# display files with redactions\n",
    "\n",
    "def open_file(filename, pgNum):\n",
    "    currDir = os.getcwdb()\n",
    "\n",
    "    # opens file in default browser at specific page, NOTE: assumes that file is in current directory and Chrome is installed\n",
    "    fileLoc = \"file:///\" + str(currDir)[2:][:-1] + \"/\" + filename.replace(\" \", \"%20\") + \"#page=\" + str(pgNum)\n",
    "\n",
    "    (webbrowser.get(using='chrome')).open(fileLoc)  \n",
    "    \n",
    "# to clear files after you no longer want redactions\n",
    "fileToClear = ''\n",
    "def clear_file():\n",
    "    if fileToClear != '':\n",
    "        pdfDoc = fitz.open(fileToClear)\n",
    "    \n",
    "        # iterates pages and removes annotations generated by fitz\n",
    "        for pgNum in range(len(pdfDoc)):\n",
    "            page = pdfDoc[pgNum]\n",
    "    \n",
    "            pdfDoc.xref_set_key(page.xref, \"Annots\", \"[]\")\n",
    "        \n",
    "        pdfDoc.save(fileToClear, incremental=True, encryption=fitz.PDF_ENCRYPT_KEEP)\n",
    "        \n",
    "def clear_btn_click(button): clear_file();\n",
    "clearBtn = widgets.Button(description='Clear')\n",
    "clearBtn.on_click(clear_btn_click)\n",
    "\n",
    "out = widgets.Output(layout={'width': '100%', 'height': '100%'})\n",
    "display(clearBtn, out)\n",
    "\n",
    "def redact_regex_matches(doc, redactLst):   \n",
    "    # iterate through redactions in file \n",
    "    foundPgNum = -1\n",
    "    for (pgNum, bbox) in redactLst:\n",
    "        if foundPgNum == -1:\n",
    "            foundPgNum = pgNum + 1\n",
    "        \n",
    "        pg = doc[pgNum]\n",
    "        red = pg.add_rect_annot(bbox)\n",
    "        red.set_colors(stroke=(0,0,0))\n",
    "        red.update(opacity=0.3, fill_color=(0,0,0))\n",
    "\n",
    "    return foundPgNum\n",
    "    \n",
    "@out.capture()\n",
    "def show_results():\n",
    "    redactDict = regex_loc_in_file(search_file_upload.value)\n",
    "    \n",
    "    for exFile in redactDict:\n",
    "        labelEx = widgets.HTML(value=\"<style>p{word-wrap: break-word}</style> <p> Redaction Expressions File Name: \" + exFile + \"</p>\")\n",
    "        display(labelEx)\n",
    "\n",
    "        for searchFile in redactDict[exFile]:\n",
    "            labelSearch = widgets.HTML(value=\"<style>p{word-wrap: break-word}</style> <p> File Name: \" + searchFile + \"</p>\")\n",
    "            display(labelSearch)\n",
    "\n",
    "            redactButton = widgets.Button(description='Redact')\n",
    "\n",
    "            def on_redact_button_click(button, info=(dict(), \"\", \"\")):\n",
    "                global fileToClear\n",
    "                \n",
    "                doc = fitz.open(info[2])\n",
    "                foundPgNum = redact_regex_matches(doc, info[0][info[1]][info[2]])\n",
    "                doc.save(info[2], incremental=True, encryption=fitz.PDF_ENCRYPT_KEEP)\n",
    "                \n",
    "                fileToClear = info[2]\n",
    "                open_file(info[2], foundPgNum)\n",
    "\n",
    "            redactButton.on_click(functools.partial(on_redact_button_click, info=(redactDict, exFile, searchFile)))\n",
    "            display(redactButton)\n",
    "            \n",
    "# print(regex_loc_in_file(search_file_upload.value))\n",
    "show_results()"
   ]
  },
  {
   "cell_type": "code",
   "execution_count": 4,
   "metadata": {
    "jupyter": {
     "source_hidden": true
    }
   },
   "outputs": [],
   "source": [
    "# import re\n",
    "# def id_to_regex(id):\n",
    "#     x = re.escape(id)\n",
    "#     x = re.sub(r'([^A-Z0-9]+)', r'(\\1)', x)\n",
    "\n",
    "#     # reg = re.compile()\n",
    "#     print(re.findall(r'[0-9]+', x))\n",
    "\n",
    "#     def numrepl(matchobj):\n",
    "#         return \"([0-9]{\"+ str(matchobj.span()[1]-matchobj.span()[0]) +\"})\"\n",
    "        \n",
    "#     # x = re.sub(r'[A-Z]+', r'([A-Z)]+)', x, )\n",
    "#     x = re.sub(r'[0-9]+', numrepl, x)\n",
    "\n",
    "#     return '^' + x + '$'\n",
    "\n",
    "# txt = \"1/3/1020\"\n",
    "# # print(id_to_regex(txt))\n",
    "\n",
    "# print(id_to_regex(txt))\n",
    "\n",
    "# import fitz \n",
    "\n",
    "# search = re.compile(id_to_regex(txt))  # matching pattern]\n",
    "# doc = fitz.open('monroe_county_inmate_roster.pdf')\n",
    "# words = doc[0].get_text(\"words\", sort=True)\n",
    "# # print(words)\n",
    "# matches = []\n",
    "# for w in words:\n",
    "#     # print(w)\n",
    "#     if search.search(w[4]):\n",
    "#         matches.append(w)\n",
    "# print([match[0:4] for match in matches])\n"
   ]
  },
  {
   "cell_type": "code",
   "execution_count": 5,
   "metadata": {
    "jupyter": {
     "source_hidden": true
    }
   },
   "outputs": [],
   "source": [
    "# print(\"[0-9]{\" +  + \"}\")"
   ]
  },
  {
   "cell_type": "code",
   "execution_count": null,
   "metadata": {},
   "outputs": [],
   "source": []
  }
 ],
 "metadata": {
  "kernelspec": {
   "display_name": "senv",
   "language": "python",
   "name": "senv"
  },
  "language_info": {
   "codemirror_mode": {
    "name": "ipython",
    "version": 3
   },
   "file_extension": ".py",
   "mimetype": "text/x-python",
   "name": "python",
   "nbconvert_exporter": "python",
   "pygments_lexer": "ipython3",
   "version": "3.11.0"
  }
 },
 "nbformat": 4,
 "nbformat_minor": 4
}
