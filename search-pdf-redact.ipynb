{
 "cells": [
  {
   "cell_type": "code",
   "execution_count": 7,
   "metadata": {},
   "outputs": [
    {
     "data": {
      "application/vnd.jupyter.widget-view+json": {
       "model_id": "b158865a86b94295a4634ff2ea6467f7",
       "version_major": 2,
       "version_minor": 0
      },
      "text/plain": [
       "HTML(value='Upload Files for Redaction')"
      ]
     },
     "metadata": {},
     "output_type": "display_data"
    },
    {
     "data": {
      "application/vnd.jupyter.widget-view+json": {
       "model_id": "fca9fe828a7e49bc9cf4a375b08fc516",
       "version_major": 2,
       "version_minor": 0
      },
      "text/plain": [
       "FileUpload(value=(), accept='.pdf', description='Upload', multiple=True)"
      ]
     },
     "metadata": {},
     "output_type": "display_data"
    },
    {
     "data": {
      "application/vnd.jupyter.widget-view+json": {
       "model_id": "62961a6a8dd64c729d4d04f57f560475",
       "version_major": 2,
       "version_minor": 0
      },
      "text/plain": [
       "Output()"
      ]
     },
     "metadata": {},
     "output_type": "display_data"
    }
   ],
   "source": [
    "import ipywidgets as widgets\n",
    "from IPython.display import display\n",
    "import warnings\n",
    "import PyPDF2\n",
    "import datetime\n",
    "import functools\n",
    "\n",
    "warnings.filterwarnings('ignore')\n",
    "\n",
    "# Create the file upload widget\n",
    "search_file_upload = widgets.FileUpload(\n",
    "    accept='.pdf',  # Accepted file types (e.g., '.txt', '.pdf', '.jpg', '.csv', etc.); leave empty for all file types\n",
    "    multiple=True  # Set to True if you want to allow multiple files to be uploaded\n",
    ")\n",
    "\n",
    "fileListOutputSEARCH = widgets.Output()\n",
    "\n",
    "txt = widgets.HTML(\"Upload Files for Redaction\")\n",
    "\n",
    "# Display the widget\n",
    "display(txt, search_file_upload, fileListOutputSEARCH)\n",
    "\n",
    "ongFileUploadValsSEARCH = []\n",
    "\n",
    "def on_value_changeSEARCH(change):\n",
    "    global ongFileUploadValsSEARCH\n",
    "    global search_file_upload\n",
    "    \n",
    "    if (ongFileUploadValsSEARCH ==  [] and list(search_file_upload.value) == []) or ongFileUploadValsSEARCH != list(search_file_upload.value):\n",
    "        \n",
    "        @fileListOutputSEARCH.capture()\n",
    "        def file_list_output_render():\n",
    "            global ongFileUploadValsSEARCH\n",
    "            \n",
    "            fileListOutputSEARCH.clear_output()\n",
    "            display(widgets.Label(\"Uploaded Files:\"))\n",
    "            \n",
    "            if change != {}:\n",
    "\n",
    "                # set search_file_upload to previous search_file_upload and current search_file_upload files\n",
    "                updatedFileUploadVal = []\n",
    "                for file in ongFileUploadValsSEARCH:\n",
    "                    updatedFileUploadVal.append(file)\n",
    "\n",
    "                for file in search_file_upload.value:\n",
    "                    if file not in updatedFileUploadVal:\n",
    "                        updatedFileUploadVal.append(file)\n",
    "\n",
    "                # update ong_file_upload value\n",
    "                ongFileUploadValsSEARCH = updatedFileUploadVal\n",
    "            \n",
    "                for file in ongFileUploadValsSEARCH:\n",
    "                    # extract number of pages of uploaded files\n",
    "                    \n",
    "                    fileOpen = open(file['name'], 'rb')\n",
    "                    reader = PyPDF2.PdfReader(fileOpen)\n",
    "                    totalPgs = len(reader.pages)\n",
    "                    remButton = widgets.Button(description='Remove')\n",
    "                    \n",
    "                    def remove_button_onclick(button, fileInfo=\"\"):\n",
    "                        global ongFileUploadValsSEARCH\n",
    "                        # update search_file_upload.value to remove chosen file\n",
    "                        newVal = []\n",
    "                        for file in search_file_upload.value:\n",
    "                            if file['name'] != fileInfo:\n",
    "                                newVal.append(file)\n",
    "                        ongFileUploadValsSEARCH = []\n",
    "                        search_file_upload.value = tuple(newVal)\n",
    "                        \n",
    "                    remButton.on_click(functools.partial(remove_button_onclick, fileInfo=file['name']))\n",
    "                    \n",
    "                    display(widgets.Label(\"\\n  file name: \" + file['name'] + \"  #pages: \" + str(totalPgs)), remButton)\n",
    "\n",
    "                    search_file_upload.value = tuple(updatedFileUploadVal)\n",
    "\n",
    "        file_list_output_render()\n",
    "\n",
    "search_file_upload.observe(on_value_changeSEARCH, names='value')"
   ]
  },
  {
   "cell_type": "code",
   "execution_count": 13,
   "metadata": {
    "scrolled": true
   },
   "outputs": [
    {
     "data": {
      "application/vnd.jupyter.widget-view+json": {
       "model_id": "a0071dd6c5344f96b6fb057d9208df1f",
       "version_major": 2,
       "version_minor": 0
      },
      "text/plain": [
       "HTML(value='Select Existing Redaction Types')"
      ]
     },
     "metadata": {},
     "output_type": "display_data"
    },
    {
     "data": {
      "application/vnd.jupyter.widget-view+json": {
       "model_id": "b1dfa920ceee4efd97a48628a542ce2c",
       "version_major": 2,
       "version_minor": 0
      },
      "text/plain": [
       "Output()"
      ]
     },
     "metadata": {},
     "output_type": "display_data"
    }
   ],
   "source": [
    "import spacy\n",
    "\n",
    "# create NER model\n",
    "# nlp = spacy.load(\"en_core_web_trf\") # slow but accurate\n",
    "nlp = spacy.load(\"en_core_web_sm\")\n",
    "\n",
    "config = {\n",
    "    \"phrase_matcher_attr\" : None, # \"phrase_matcher_attr\": \"SHAPE\",\n",
    "    \"validate\": True,\n",
    "    \"overwrite_ents\": True,\n",
    "    \"ent_id_sep\": \"||\",\n",
    "}\n",
    "ruler = nlp.add_pipe(\"entity_ruler\", config=config, before=\"ner\")\n",
    "\n",
    "extPat = [{\"label\" : \"EMAIL\", \"pattern\" : [{\"LIKE_EMAIL\" : True}]}, {\"label\" : \"URL\", \"pattern\" : [{\"LIKE_URL\" : True}]}]\n",
    "ruler.add_patterns(extPat)\n",
    "\n",
    "spacyNERtypes = ['PERSON', 'NORP', 'FAC', 'ORG', 'GPE', 'LOC', 'PRODUCT', 'EVENT', 'WORK_OF_ART', 'LAW', 'LANGUAGE', 'DATE', 'TIME', 'PERCENT', 'MONEY', 'QUANTITY', 'ORDINAL', 'CARDINAL', 'EMAIL', 'URL']\n",
    "entityTypes = dict()\n",
    "for type in spacyNERtypes:\n",
    "    entityTypes[type] = False\n",
    "\n",
    "typeSelectOut = widgets.Output()\n",
    "txtSample = widgets.HTML(\"Select Existing Redaction Types\")\n",
    "\n",
    "# Display the widget\n",
    "display(txtSample, typeSelectOut)\n",
    "\n",
    "@typeSelectOut.capture()\n",
    "def exist_type_render():\n",
    "    for type in entityTypes:\n",
    "        selectionWid = widgets.Checkbox(value=False, description=type, disabled=False, indent=False)\n",
    "        def changed(change):\n",
    "            if change != {} and isinstance(change['new'], bool):\n",
    "                entityTypes[change['owner'].description] = change['new']\n",
    "        selectionWid.observe(changed)\n",
    "        display(selectionWid)\n",
    "exist_type_render()\n"
   ]
  },
  {
   "cell_type": "code",
   "execution_count": 3,
   "metadata": {},
   "outputs": [
    {
     "data": {
      "application/vnd.jupyter.widget-view+json": {
       "model_id": "4f8a052532774695932ed7bc2e160f2b",
       "version_major": 2,
       "version_minor": 0
      },
      "text/plain": [
       "HTML(value='Select Redaction Types')"
      ]
     },
     "metadata": {},
     "output_type": "display_data"
    },
    {
     "data": {
      "application/vnd.jupyter.widget-view+json": {
       "model_id": "4d54141f35734201af607926a13fa3f9",
       "version_major": 2,
       "version_minor": 0
      },
      "text/plain": [
       "FileUpload(value=(), accept='.txt', description='Upload', multiple=True)"
      ]
     },
     "metadata": {},
     "output_type": "display_data"
    },
    {
     "data": {
      "application/vnd.jupyter.widget-view+json": {
       "model_id": "e3ba917c2af6402495ef4440cfe48026",
       "version_major": 2,
       "version_minor": 0
      },
      "text/plain": [
       "Output()"
      ]
     },
     "metadata": {},
     "output_type": "display_data"
    }
   ],
   "source": [
    "# Create the file upload widget\n",
    "examples_file_upload = widgets.FileUpload(\n",
    "    accept='.txt',  # Accepted file types (e.g., '.txt', '.pdf', '.jpg', '.csv', etc.); leave empty for all file types\n",
    "    multiple=True  # Set to True if you want to allow multiple files to be uploaded\n",
    ")\n",
    "\n",
    "fileListOutput = widgets.Output()\n",
    "\n",
    "txtSample = widgets.HTML(\"Select Redaction Types\")\n",
    "\n",
    "# Display the widget\n",
    "display(txtSample, examples_file_upload, fileListOutput)\n",
    "\n",
    "ongFileUploadVals = []\n",
    "\n",
    "def on_value_change(change):\n",
    "    global ongFileUploadVals\n",
    "    global examples_file_upload\n",
    "    \n",
    "    if (ongFileUploadVals ==  [] and list(examples_file_upload.value) == []) or ongFileUploadVals != list(examples_file_upload.value):\n",
    "\n",
    "        @fileListOutput.capture()\n",
    "        def file_list_output_render():\n",
    "            global ongFileUploadVals\n",
    "            \n",
    "            fileListOutput.clear_output()\n",
    "            display(widgets.Label(\"Uploaded Files\"))\n",
    "            \n",
    "            if change != {}:\n",
    "\n",
    "                # set examples_file_upload to previous examples_file_upload and current examples_file_upload files\n",
    "                updatedFileUploadVal = []\n",
    "                for file in ongFileUploadVals:\n",
    "                    updatedFileUploadVal.append(file)\n",
    "\n",
    "                for file in examples_file_upload.value:\n",
    "                    if file not in updatedFileUploadVal:\n",
    "                        updatedFileUploadVal.append(file)\n",
    "\n",
    "                # update ong_file_upload value\n",
    "                ongFileUploadVals = updatedFileUploadVal\n",
    "            \n",
    "                for file in ongFileUploadVals:\n",
    "                    remButton = widgets.Button(description='Remove')\n",
    "                    \n",
    "                    def remove_button_onclick(button, fileInfo=\"\"):\n",
    "                        global ongFileUploadVals\n",
    "                        # update examples_file_upload.value to remove chosen file\n",
    "                        newVal = []\n",
    "                        for file in examples_file_upload.value:\n",
    "                            if file['name'] != fileInfo:\n",
    "                                newVal.append(file)\n",
    "                        ongFileUploadVals = []\n",
    "                        examples_file_upload.value = tuple(newVal)\n",
    "                        \n",
    "                    remButton.on_click(functools.partial(remove_button_onclick, fileInfo=file['name']))\n",
    "                    \n",
    "                    display(widgets.Label(\"\\n  file name: \" + file['name']), remButton)\n",
    "\n",
    "                    examples_file_upload.value = tuple(updatedFileUploadVal)\n",
    "\n",
    "        file_list_output_render()\n",
    "\n",
    "examples_file_upload.observe(on_value_change, names='value')"
   ]
  },
  {
   "cell_type": "code",
   "execution_count": 14,
   "metadata": {},
   "outputs": [
    {
     "data": {
      "application/vnd.jupyter.widget-view+json": {
       "model_id": "9aeaf08a222642a985333721ab5adb14",
       "version_major": 2,
       "version_minor": 0
      },
      "text/plain": [
       "Button(description='Generate Redactions', style=ButtonStyle())"
      ]
     },
     "metadata": {},
     "output_type": "display_data"
    },
    {
     "data": {
      "application/vnd.jupyter.widget-view+json": {
       "model_id": "caf7bf2407764909a1141e9c2df6c2d3",
       "version_major": 2,
       "version_minor": 0
      },
      "text/plain": [
       "Button(description='Clear', style=ButtonStyle())"
      ]
     },
     "metadata": {},
     "output_type": "display_data"
    },
    {
     "data": {
      "application/vnd.jupyter.widget-view+json": {
       "model_id": "b3866788f00e495eba1464423eaf689f",
       "version_major": 2,
       "version_minor": 0
      },
      "text/plain": [
       "Output(layout=Layout(height='100%', width='100%'))"
      ]
     },
     "metadata": {},
     "output_type": "display_data"
    }
   ],
   "source": [
    "import re\n",
    "import fitz\n",
    "import os\n",
    "import webbrowser\n",
    "import string\n",
    "import spacy_transformers\n",
    "\n",
    "warnings.filterwarnings('ignore')\n",
    "\n",
    "# PART ONE: convert sample data to regex expressions\n",
    "\n",
    "# https://www.linkedin.com/pulse/programatically-generating-regular-expressions-from-sample-lee-de-byl/\n",
    "def expr_to_regex(txt, type):\n",
    "    if type == \"0\":\n",
    "        regEx = re.escape(txt)\n",
    "        regEx = re.sub(r'([^A-Za-z0-9]+)', r'(\\1)', regEx)\n",
    "        regEx = re.sub(r'[A-Za-z]+', lambda matchobj: \"([A-Za-z]{\"+ str(matchobj.span()[1]-matchobj.span()[0]) +\"})\", regEx)\n",
    "        regEx = re.sub(r'[0-9]+', lambda matchobj: \"([0-9]{\"+ str(matchobj.span()[1]-matchobj.span()[0]) +\"})\", regEx)\n",
    "    \n",
    "        return '^' + regEx + '$'\n",
    "        \n",
    "    else:\n",
    "        regEx = re.escape(txt)\n",
    "        regEx = re.sub(r'([^A-Za-z0-9]+)', r'(\\1)', regEx)\n",
    "        regEx = re.sub(r'[A-Za-z]+', r'([A-Za-z]+)', regEx)\n",
    "        regEx = re.sub(r'[0-9]+', r'([0-9]+)', regEx)\n",
    "\n",
    "        # print(\"text\", txt, \"regex\", regEx)\n",
    "        return '^' + '(' + regEx + ')' + '$'\n",
    "    \n",
    "# PART TWO: skim files and redact text that matches regex expressions\n",
    "\n",
    "def remove_punct(txt):\n",
    "    return txt.translate(str.maketrans('', '', string.punctuation)).replace(\"’\", \"\").replace(\"“\", \"\")\n",
    "\n",
    "# https://bobbyhadz.com/blog/python-remove-non-ascii-characters-from-string\n",
    "def remove_non_ascii(txt):\n",
    "    ascii_chars = set(string.printable)\n",
    "\n",
    "    return ''.join(\n",
    "        filter(lambda x: x in ascii_chars, txt)\n",
    "   )\n",
    "    \n",
    "def redact_loc_in_file(searchFileUpVal):\n",
    "    global ruler\n",
    "\n",
    "    redactTypes = [] \n",
    "    \n",
    "    # add selected existing types to redaction types list\n",
    "    for type in entityTypes:\n",
    "        if entityTypes[type]:\n",
    "            redactTypes.append(type)\n",
    "    \n",
    "    patterns = []\n",
    "\n",
    "    # generate custom types from examples provided\n",
    "    for file in examples_file_upload.value:\n",
    "         \n",
    "        # read sample data file\n",
    "        fileOpen = open(file['name'], \"r\")\n",
    "        data = fileOpen.read().split(\"\\n\")\n",
    "\n",
    "        if \"SIMPLE REGEX\" in data[0].strip():\n",
    "            # find regex from sample data files\n",
    "            dataRegEx = []\n",
    "            for line in data[2:]:\n",
    "                if expr_to_regex(line, data[0].strip()[-1]) not in dataRegEx:\n",
    "                    dataRegEx.append(expr_to_regex(line.replace(\"-\",\"\"), data[0].strip()[-1]))\n",
    "                    \n",
    "            for regex in dataRegEx:\n",
    "                patterns.append({\"label\" : data[1], \"pattern\" : [{\"TEXT\" : {\"REGEX\" : regex}}]})\n",
    "                \n",
    "            redactTypes.append(data[1])\n",
    "            \n",
    "        elif \"FUZZY MATCH\" in data[0].strip():\n",
    "            for line in data[2:]:\n",
    "                if line != \"\":\n",
    "                    patterns.append({\"label\" : data[1], \"pattern\" : [{\"TEXT\": {\"FUZZY\": line}}]}) # fuzzy matching only works for words\n",
    "                    redactTypes.append(data[1])\n",
    "\n",
    "    ruler.add_patterns(patterns)\n",
    "\n",
    "    # generate dictionary containing information to be redacted\n",
    "    redactDict = dict()\n",
    "    \n",
    "    # for each redaction type look at each file to redact\n",
    "    for file in searchFileUpVal:\n",
    "        pdfDoc = fitz.open(file['name'])\n",
    "        \n",
    "        for pgNum in range(len(pdfDoc)):\n",
    "            page = pdfDoc[pgNum]\n",
    "            matches = []\n",
    "            \n",
    "            for block in page.get_text(\"dict\")[\"blocks\"]:\n",
    "                if block['type'] == 0:\n",
    "\n",
    "                    for line in block['lines']:\n",
    "                        for span in line['spans']: \n",
    "\n",
    "                            text = span['text']\n",
    "                            bbox = span['bbox']\n",
    "                            words = page.get_text(\"words\", clip=span['bbox'])\n",
    "\n",
    "                            # looking for words with same entity\n",
    "                            doc = nlp(remove_non_ascii(text).replace(\"-\",\"\"))\n",
    "                                \n",
    "                            ents = doc.ents\n",
    "                            # if doesn't find an entity for word try longer phrase\n",
    "                            if not ents:\n",
    "                                tokens = [t.text for t in doc]\n",
    "                                if tokens:\n",
    "                                    with doc.retokenize() as retokenizer:\n",
    "                                        retokenizer.merge(doc[0:len(tokens)])\n",
    "                                    ents = doc.ents\n",
    "\n",
    "                            # check for whether the label of current words matches one of the redaction labels\n",
    "                            if ents:                                \n",
    "                                for ent in ents:\n",
    "                                    if ent.label_ in redactTypes:\n",
    "                                        matchesP = list(filter(lambda w: remove_punct(w[4]) in remove_punct(ent.text).split(\" \"), words))\n",
    "                                        matches.append((ent.label_, list(map(lambda w: w[0:4], matchesP)))) \n",
    "\n",
    "            for (label, matchesLst) in matches:\n",
    "                if label not in redactDict:\n",
    "                    redactDict[label] = dict()\n",
    "                if file['name'] not in redactDict[label]:\n",
    "                    redactDict[label][file['name']] = []\n",
    "                    \n",
    "                redactDict[label][file['name']] += [(pgNum, match) for match in matchesLst]\n",
    "        pdfDoc.close()\n",
    "\n",
    "    return redactDict\n",
    "        \n",
    "# display files with redactions\n",
    "\n",
    "def open_file(filename, pgNum):\n",
    "    currDir = os.getcwdb()\n",
    "\n",
    "    # opens file in default browser at specific page, NOTE: assumes that file is in current directory and Chrome is installed\n",
    "    fileLoc = \"file:///\" + str(currDir)[2:][:-1] + \"/\" + filename.replace(\" \", \"%20\") + \"#page=\" + str(pgNum)\n",
    "\n",
    "    (webbrowser.get(using='chrome')).open(fileLoc)  \n",
    "    \n",
    "# to clear files after you no longer want redactions\n",
    "fileToClear = ''\n",
    "def clear_file():\n",
    "    if fileToClear != '':\n",
    "        pdfDoc = fitz.open(fileToClear)\n",
    "    \n",
    "        # iterates pages and removes annotations generated by fitz\n",
    "        for pgNum in range(len(pdfDoc)):\n",
    "            page = pdfDoc[pgNum]\n",
    "    \n",
    "            pdfDoc.xref_set_key(page.xref, \"Annots\", \"[]\")\n",
    "        \n",
    "        pdfDoc.save(fileToClear, incremental=True, encryption=fitz.PDF_ENCRYPT_KEEP)\n",
    "        pdfDoc.close()\n",
    "        \n",
    "def clear_btn_click(button): clear_file();\n",
    "clearBtn = widgets.Button(description='Clear')\n",
    "clearBtn.on_click(clear_btn_click)\n",
    "\n",
    "out = widgets.Output(layout={'width': '100%', 'height': '100%'})\n",
    "\n",
    "def generate_btn_on_click(button): show_results()\n",
    "generateBtn = widgets.Button(description=\"Generate Redactions\")\n",
    "generateBtn.on_click(generate_btn_on_click)\n",
    "\n",
    "display(generateBtn, clearBtn, out)\n",
    "\n",
    "def redact_matches(doc, redactLst):  \n",
    "    # iterate through redactions in file \n",
    "    foundPgNum = -1\n",
    "    for (pgNum, bbox) in redactLst:\n",
    "        if foundPgNum == -1:\n",
    "            foundPgNum = pgNum + 1\n",
    "            \n",
    "        pg = doc[pgNum]\n",
    "        red = pg.add_rect_annot(bbox)\n",
    "        red.set_colors(stroke=(0,0,0))\n",
    "        red.update(opacity=0.5, fill_color=(0,0,0))\n",
    "\n",
    "    return foundPgNum\n",
    "    \n",
    "@out.capture()\n",
    "def show_results():\n",
    "    out.clear_output()\n",
    "    \n",
    "    redactDict = redact_loc_in_file(search_file_upload.value)\n",
    "    \n",
    "    for label in redactDict:\n",
    "        display(widgets.Label(value=\"----\"))\n",
    "        \n",
    "        labelEx = widgets.HTML(value=\"<style>p{word-wrap: break-word}</style> <p> Redaction Type: \" + label + \"</p>\")\n",
    "        display(labelEx)\n",
    "\n",
    "        for searchFile in redactDict[label]:\n",
    "            if redactDict[label][searchFile]:\n",
    "                labelSearch = widgets.HTML(value=\"<style>p{word-wrap: break-word}</style> <p> File Name: \" + searchFile + \"</p>\")\n",
    "                display(labelSearch)\n",
    "    \n",
    "                redactButton = widgets.Button(description='Redact')\n",
    "\n",
    "                def on_redact_button_click(button, info=(dict(), \"\", \"\")):\n",
    "                    global fileToClear\n",
    "                    clear_file()\n",
    "                    \n",
    "                    doc = fitz.open(info[2])\n",
    "                    redactLst = info[0][info[1]][info[2]]\n",
    "\n",
    "                    # remove duplicates without changing order\n",
    "                    redactLstP = []\n",
    "                    for e in redactLst:\n",
    "                        if e not in redactLstP:\n",
    "                            redactLstP.append(e)\n",
    "                            \n",
    "                    foundPgNum = redact_matches(doc, redactLstP)\n",
    "                    doc.save(info[2], incremental=True, encryption=fitz.PDF_ENCRYPT_KEEP)\n",
    "                    doc.close()\n",
    "                    \n",
    "                    fileToClear = info[2]\n",
    "                    open_file(info[2], foundPgNum)\n",
    "\n",
    "    \n",
    "                redactButton.on_click(functools.partial(on_redact_button_click, info=(redactDict, label, searchFile)))\n",
    "                display(redactButton)"
   ]
  },
  {
   "cell_type": "code",
   "execution_count": null,
   "metadata": {},
   "outputs": [],
   "source": []
  }
 ],
 "metadata": {
  "kernelspec": {
   "display_name": "senv",
   "language": "python",
   "name": "senv"
  },
  "language_info": {
   "codemirror_mode": {
    "name": "ipython",
    "version": 3
   },
   "file_extension": ".py",
   "mimetype": "text/x-python",
   "name": "python",
   "nbconvert_exporter": "python",
   "pygments_lexer": "ipython3",
   "version": "3.11.0"
  }
 },
 "nbformat": 4,
 "nbformat_minor": 4
}
