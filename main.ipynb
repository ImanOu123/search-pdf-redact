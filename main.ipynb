{
 "cells": [
  {
   "cell_type": "code",
   "execution_count": 3,
   "metadata": {},
   "outputs": [
    {
     "data": {
      "application/vnd.jupyter.widget-view+json": {
       "model_id": "5eb10a70be82470b84186214ce09a0d4",
       "version_major": 2,
       "version_minor": 0
      },
      "text/plain": [
       "FileUpload(value=(), description='Upload', multiple=True)"
      ]
     },
     "metadata": {},
     "output_type": "display_data"
    },
    {
     "data": {
      "application/vnd.jupyter.widget-view+json": {
       "model_id": "4c6723323f8540acbad579cf0e2eecda",
       "version_major": 2,
       "version_minor": 0
      },
      "text/plain": [
       "Output()"
      ]
     },
     "metadata": {},
     "output_type": "display_data"
    }
   ],
   "source": [
    "import ipywidgets as widgets\n",
    "from IPython.display import display\n",
    "import warnings\n",
    "import PyPDF20\n",
    "import datetime\n",
    "import functools\n",
    "\n",
    "warnings.filterwarnings('ignore')\n",
    "\n",
    "# Create the file upload widget\n",
    "file_upload = widgets.FileUpload(\n",
    "    accept='',  # Accepted file types (e.g., '.txt', '.pdf', '.jpg', '.csv', etc.); leave empty for all file types\n",
    "    multiple=True  # Set to True if you want to allow multiple files to be uploaded\n",
    ")\n",
    "\n",
    "fileListOutput = widgets.Output()\n",
    "\n",
    "# Display the widget\n",
    "display(file_upload, fileListOutput)\n",
    "\n",
    "ongFileUploadVals = []\n",
    "\n",
    "def on_value_change(change):\n",
    "    global ongFileUploadVals\n",
    "    global file_upload\n",
    "    \n",
    "    if (ongFileUploadVals ==  [] and list(file_upload.value) == []) or ongFileUploadVals != list(file_upload.value):\n",
    "\n",
    "        @fileListOutput.capture()\n",
    "        def file_list_output_render():\n",
    "            global ongFileUploadVals\n",
    "            \n",
    "            fileListOutput.clear_output()\n",
    "            display(widgets.Label(\"Uploaded Files: \"))\n",
    "            \n",
    "            if change != {}:\n",
    "\n",
    "                # set file_upload to previous file_upload and current file_upload files\n",
    "                updatedFileUploadVal = []\n",
    "                for file in ongFileUploadVals:\n",
    "                    updatedFileUploadVal.append(file)\n",
    "\n",
    "                for file in file_upload.value:\n",
    "                    if file not in updatedFileUploadVal:\n",
    "                        updatedFileUploadVal.append(file)\n",
    "\n",
    "                # update ong_file_upload value\n",
    "                ongFileUploadVals = updatedFileUploadVal\n",
    "            \n",
    "                for file in ongFileUploadVals:\n",
    "                    # extract number of pages of uploaded files\n",
    "                    \n",
    "                    fileOpen = open(file['name'], 'rb')\n",
    "                    reader = PyPDF2.PdfReader(fileOpen)\n",
    "                    totalPgs = len(reader.pages)\n",
    "                    remButton = widgets.Button(description='Remove')\n",
    "                    \n",
    "                    def remove_button_onclick(button, fileInfo=\"\"):\n",
    "                        global ongFileUploadVals\n",
    "                        # update file_upload.value to remove chosen file\n",
    "                        newVal = []\n",
    "                        for file in file_upload.value:\n",
    "                            if file['name'] != fileInfo:\n",
    "                                newVal.append(file)\n",
    "                        ongFileUploadVals = []\n",
    "                        file_upload.value = tuple(newVal)\n",
    "                        \n",
    "                    remButton.on_click(functools.partial(remove_button_onclick, fileInfo=file['name']))\n",
    "                    \n",
    "                    display(widgets.Label(\"\\n  file name: \" + file['name'] + \"  #pages: \" + str(totalPgs)), remButton)\n",
    "\n",
    "                    file_upload.value = tuple(updatedFileUploadVal)\n",
    "\n",
    "        file_list_output_render()\n",
    "\n",
    "file_upload.observe(on_value_change, names='value')"
   ]
  },
  {
   "cell_type": "code",
   "execution_count": null,
   "metadata": {},
   "outputs": [],
   "source": []
  }
 ],
 "metadata": {
  "kernelspec": {
   "display_name": "senv",
   "language": "python",
   "name": "senv"
  },
  "language_info": {
   "codemirror_mode": {
    "name": "ipython",
    "version": 3
   },
   "file_extension": ".py",
   "mimetype": "text/x-python",
   "name": "python",
   "nbconvert_exporter": "python",
   "pygments_lexer": "ipython3",
   "version": "3.11.0"
  }
 },
 "nbformat": 4,
 "nbformat_minor": 4
}
