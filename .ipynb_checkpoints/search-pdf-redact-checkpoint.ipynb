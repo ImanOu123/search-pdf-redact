{
 "cells": [
  {
   "cell_type": "code",
   "execution_count": 1,
   "metadata": {},
   "outputs": [
    {
     "data": {
      "application/vnd.jupyter.widget-view+json": {
       "model_id": "c275d41415644844add73f756c344c3d",
       "version_major": 2,
       "version_minor": 0
      },
      "text/plain": [
       "HTML(value='Upload Files for Redaction')"
      ]
     },
     "metadata": {},
     "output_type": "display_data"
    },
    {
     "data": {
      "application/vnd.jupyter.widget-view+json": {
       "model_id": "7f65f6d47b41467f95b2c43efed847d1",
       "version_major": 2,
       "version_minor": 0
      },
      "text/plain": [
       "FileUpload(value=(), accept='.pdf', description='Upload', multiple=True)"
      ]
     },
     "metadata": {},
     "output_type": "display_data"
    },
    {
     "data": {
      "application/vnd.jupyter.widget-view+json": {
       "model_id": "ef0b4c789ea94b81ba9e9fd8de487f1b",
       "version_major": 2,
       "version_minor": 0
      },
      "text/plain": [
       "Output()"
      ]
     },
     "metadata": {},
     "output_type": "display_data"
    }
   ],
   "source": [
    "import ipywidgets as widgets\n",
    "from IPython.display import display\n",
    "import warnings\n",
    "import PyPDF2\n",
    "import datetime\n",
    "import functools\n",
    "\n",
    "warnings.filterwarnings('ignore')\n",
    "\n",
    "# Create the file upload widget\n",
    "search_file_upload = widgets.FileUpload(\n",
    "    accept='.pdf',  # Accepted file types (e.g., '.txt', '.pdf', '.jpg', '.csv', etc.); leave empty for all file types\n",
    "    multiple=True  # Set to True if you want to allow multiple files to be uploaded\n",
    ")\n",
    "\n",
    "fileListOutputSEARCH = widgets.Output()\n",
    "\n",
    "txt = widgets.HTML(\"Upload Files for Redaction\")\n",
    "\n",
    "# Display the widget\n",
    "display(txt, search_file_upload, fileListOutputSEARCH)\n",
    "\n",
    "ongFileUploadValsSEARCH = []\n",
    "\n",
    "def on_value_changeSEARCH(change):\n",
    "    global ongFileUploadValsSEARCH\n",
    "    global search_file_upload\n",
    "    \n",
    "    if (ongFileUploadValsSEARCH ==  [] and list(search_file_upload.value) == []) or ongFileUploadValsSEARCH != list(search_file_upload.value):\n",
    "        \n",
    "        @fileListOutputSEARCH.capture()\n",
    "        def file_list_output_render():\n",
    "            global ongFileUploadValsSEARCH\n",
    "            \n",
    "            fileListOutputSEARCH.clear_output()\n",
    "            display(widgets.Label(\"Uploaded Files:\"))\n",
    "            \n",
    "            if change != {}:\n",
    "\n",
    "                # set search_file_upload to previous search_file_upload and current search_file_upload files\n",
    "                updatedFileUploadVal = []\n",
    "                for file in ongFileUploadValsSEARCH:\n",
    "                    updatedFileUploadVal.append(file)\n",
    "\n",
    "                for file in search_file_upload.value:\n",
    "                    if file not in updatedFileUploadVal:\n",
    "                        updatedFileUploadVal.append(file)\n",
    "\n",
    "                # update ong_file_upload value\n",
    "                ongFileUploadValsSEARCH = updatedFileUploadVal\n",
    "            \n",
    "                for file in ongFileUploadValsSEARCH:\n",
    "                    # extract number of pages of uploaded files\n",
    "                    \n",
    "                    fileOpen = open(file['name'], 'rb')\n",
    "                    reader = PyPDF2.PdfReader(fileOpen)\n",
    "                    totalPgs = len(reader.pages)\n",
    "                    remButton = widgets.Button(description='Remove')\n",
    "                    \n",
    "                    def remove_button_onclick(button, fileInfo=\"\"):\n",
    "                        global ongFileUploadValsSEARCH\n",
    "                        # update search_file_upload.value to remove chosen file\n",
    "                        newVal = []\n",
    "                        for file in search_file_upload.value:\n",
    "                            if file['name'] != fileInfo:\n",
    "                                newVal.append(file)\n",
    "                        ongFileUploadValsSEARCH = []\n",
    "                        search_file_upload.value = tuple(newVal)\n",
    "                        \n",
    "                    remButton.on_click(functools.partial(remove_button_onclick, fileInfo=file['name']))\n",
    "                    \n",
    "                    display(widgets.Label(\"\\n  file name: \" + file['name'] + \"  #pages: \" + str(totalPgs)), remButton)\n",
    "\n",
    "                    search_file_upload.value = tuple(updatedFileUploadVal)\n",
    "\n",
    "        file_list_output_render()\n",
    "\n",
    "search_file_upload.observe(on_value_changeSEARCH, names='value')"
   ]
  },
  {
   "cell_type": "code",
   "execution_count": 2,
   "metadata": {
    "scrolled": true
   },
   "outputs": [
    {
     "data": {
      "application/vnd.jupyter.widget-view+json": {
       "model_id": "18410b72c6d849d292ac87b7d9160cbe",
       "version_major": 2,
       "version_minor": 0
      },
      "text/plain": [
       "HTML(value='Select Existing Redaction Types')"
      ]
     },
     "metadata": {},
     "output_type": "display_data"
    },
    {
     "data": {
      "application/vnd.jupyter.widget-view+json": {
       "model_id": "2d89c244935d49128aef4e3ef74798ce",
       "version_major": 2,
       "version_minor": 0
      },
      "text/plain": [
       "Output()"
      ]
     },
     "metadata": {},
     "output_type": "display_data"
    }
   ],
   "source": [
    "import spacy\n",
    "\n",
    "# create NER model\n",
    "nlp = spacy.load(\"en_core_web_sm\")\n",
    "\n",
    "config = {\n",
    "    \"phrase_matcher_attr\" : None, # \"phrase_matcher_attr\": \"SHAPE\",\n",
    "    \"validate\": True,\n",
    "    \"overwrite_ents\": True,\n",
    "    \"ent_id_sep\": \"||\",\n",
    "}\n",
    "ruler = nlp.add_pipe(\"entity_ruler\", config=config, before=\"ner\")\n",
    "\n",
    "extPat = [{\"label\" : \"EMAIL\", \"pattern\" : [{\"LIKE_EMAIL\" : True}]}, {\"label\" : \"URL\", \"pattern\" : [{\"LIKE_URL\" : True}]}]\n",
    "ruler.add_patterns(extPat)\n",
    "\n",
    "spacyNERtypes = ['PERSON', 'NORP', 'FAC', 'ORG', 'GPE', 'LOC', 'PRODUCT', 'EVENT', 'WORK_OF_ART', 'LAW', 'LANGUAGE', 'DATE', 'TIME', 'PERCENT', 'MONEY', 'QUANTITY', 'ORDINAL', 'CARDINAL', 'EMAIL', 'URL']\n",
    "entityTypes = dict()\n",
    "for type in spacyNERtypes:\n",
    "    entityTypes[type] = False\n",
    "\n",
    "typeSelectOut = widgets.Output()\n",
    "txtSample = widgets.HTML(\"Select Existing Redaction Types\")\n",
    "\n",
    "# Display the widget\n",
    "display(txtSample, typeSelectOut)\n",
    "\n",
    "@typeSelectOut.capture()\n",
    "def exist_type_render():\n",
    "    for type in entityTypes:\n",
    "        selectionWid = widgets.Checkbox(value=False, description=type, disabled=False, indent=False)\n",
    "        def changed(change):\n",
    "            if change != {} and isinstance(change['new'], bool):\n",
    "                entityTypes[change['owner'].description] = change['new']\n",
    "        selectionWid.observe(changed)\n",
    "        display(selectionWid)\n",
    "exist_type_render()\n"
   ]
  },
  {
   "cell_type": "code",
   "execution_count": 3,
   "metadata": {},
   "outputs": [
    {
     "data": {
      "application/vnd.jupyter.widget-view+json": {
       "model_id": "5fbbd99f958d4a4998d7964063b90410",
       "version_major": 2,
       "version_minor": 0
      },
      "text/plain": [
       "HTML(value='Generate Custom Redaction Types')"
      ]
     },
     "metadata": {},
     "output_type": "display_data"
    },
    {
     "data": {
      "application/vnd.jupyter.widget-view+json": {
       "model_id": "4ea1403fae3a451a9ea2ceea5c157fcc",
       "version_major": 2,
       "version_minor": 0
      },
      "text/plain": [
       "FileUpload(value=(), accept='.txt', description='Upload', multiple=True)"
      ]
     },
     "metadata": {},
     "output_type": "display_data"
    },
    {
     "data": {
      "application/vnd.jupyter.widget-view+json": {
       "model_id": "07670588a5434d7185863dde28d0911b",
       "version_major": 2,
       "version_minor": 0
      },
      "text/plain": [
       "Output()"
      ]
     },
     "metadata": {},
     "output_type": "display_data"
    }
   ],
   "source": [
    "# Create the file upload widget\n",
    "examples_file_upload = widgets.FileUpload(\n",
    "    accept='.txt',  # Accepted file types (e.g., '.txt', '.pdf', '.jpg', '.csv', etc.); leave empty for all file types\n",
    "    multiple=True  # Set to True if you want to allow multiple files to be uploaded\n",
    ")\n",
    "\n",
    "fileListOutput = widgets.Output()\n",
    "\n",
    "txtSample = widgets.HTML(\"Generate Custom Redaction Types\")\n",
    "\n",
    "# Display the widget\n",
    "display(txtSample, examples_file_upload, fileListOutput)\n",
    "\n",
    "ongFileUploadVals = []\n",
    "\n",
    "def on_value_change(change):\n",
    "    global ongFileUploadVals\n",
    "    global examples_file_upload\n",
    "    \n",
    "    if (ongFileUploadVals ==  [] and list(examples_file_upload.value) == []) or ongFileUploadVals != list(examples_file_upload.value):\n",
    "\n",
    "        @fileListOutput.capture()\n",
    "        def file_list_output_render():\n",
    "            global ongFileUploadVals\n",
    "            \n",
    "            fileListOutput.clear_output()\n",
    "            display(widgets.Label(\"Uploaded Files\"))\n",
    "            \n",
    "            if change != {}:\n",
    "\n",
    "                # set examples_file_upload to previous examples_file_upload and current examples_file_upload files\n",
    "                updatedFileUploadVal = []\n",
    "                for file in ongFileUploadVals:\n",
    "                    updatedFileUploadVal.append(file)\n",
    "\n",
    "                for file in examples_file_upload.value:\n",
    "                    if file not in updatedFileUploadVal:\n",
    "                        updatedFileUploadVal.append(file)\n",
    "\n",
    "                # update ong_file_upload value\n",
    "                ongFileUploadVals = updatedFileUploadVal\n",
    "            \n",
    "                for file in ongFileUploadVals:\n",
    "                    remButton = widgets.Button(description='Remove')\n",
    "                    \n",
    "                    def remove_button_onclick(button, fileInfo=\"\"):\n",
    "                        global ongFileUploadVals\n",
    "                        # update examples_file_upload.value to remove chosen file\n",
    "                        newVal = []\n",
    "                        for file in examples_file_upload.value:\n",
    "                            if file['name'] != fileInfo:\n",
    "                                newVal.append(file)\n",
    "                        ongFileUploadVals = []\n",
    "                        examples_file_upload.value = tuple(newVal)\n",
    "                        \n",
    "                    remButton.on_click(functools.partial(remove_button_onclick, fileInfo=file['name']))\n",
    "                    \n",
    "                    display(widgets.Label(\"\\n  file name: \" + file['name']), remButton)\n",
    "\n",
    "                    examples_file_upload.value = tuple(updatedFileUploadVal)\n",
    "\n",
    "        file_list_output_render()\n",
    "\n",
    "examples_file_upload.observe(on_value_change, names='value')"
   ]
  },
  {
   "cell_type": "code",
   "execution_count": 4,
   "metadata": {},
   "outputs": [
    {
     "data": {
      "application/vnd.jupyter.widget-view+json": {
       "model_id": "a2ce6df2f70b4520945ce468f5e67037",
       "version_major": 2,
       "version_minor": 0
      },
      "text/plain": [
       "Button(description='Generate Redactions', style=ButtonStyle())"
      ]
     },
     "metadata": {},
     "output_type": "display_data"
    },
    {
     "data": {
      "application/vnd.jupyter.widget-view+json": {
       "model_id": "10bdf726ec41462e939f92a6ac5f4fe4",
       "version_major": 2,
       "version_minor": 0
      },
      "text/plain": [
       "Button(description='Clear', style=ButtonStyle())"
      ]
     },
     "metadata": {},
     "output_type": "display_data"
    },
    {
     "data": {
      "application/vnd.jupyter.widget-view+json": {
       "model_id": "cbe53f9c1d4b4d928d4778b7de211e1b",
       "version_major": 2,
       "version_minor": 0
      },
      "text/plain": [
       "Output(layout=Layout(height='100%', width='100%'))"
      ]
     },
     "metadata": {},
     "output_type": "display_data"
    }
   ],
   "source": [
    "import re\n",
    "import fitz\n",
    "import os\n",
    "import webbrowser\n",
    "import string\n",
    "import spacy_transformers\n",
    "import openai\n",
    "import time\n",
    "\n",
    "warnings.filterwarnings('ignore')\n",
    "\n",
    "def remove_punct(txt):\n",
    "    return txt.translate(str.maketrans('', '', string.punctuation)).replace(\"’\", \"\").replace(\"“\", \"\")\n",
    "\n",
    "# https://bobbyhadz.com/blog/python-remove-non-ascii-characters-from-string\n",
    "def remove_non_ascii(txt):\n",
    "    ascii_chars = set(string.printable)\n",
    "\n",
    "    return ''.join(\n",
    "        filter(lambda x: x in ascii_chars, txt)\n",
    "   )\n",
    "\n",
    "# regex generator using chatgpt\n",
    "SYSTEM_PROMPT = \"You are a smart and intelligent regex Generator system. I will provide you the examples of text separated by newline you need to find a regex expression for and the output format. Do not respond with text other than that of the output format.\"\n",
    "USER_PROMPT_1 = \"Are you clear about your role?\"\n",
    "ASSISTANT_PROMPT_1 = \"Sure, I'm ready to help you with your regex task. Please provide me with the necessary information to get started.\"\n",
    "\n",
    "openai.api_key = os.getenv(\"OPENAI_API_KEY\")\n",
    "\n",
    "def openai_chat_completion_response(final_prompt):\n",
    "    response = openai.ChatCompletion.create(\n",
    "        model=\"gpt-3.5-turbo\",\n",
    "        messages=[\n",
    "            {\"role\": \"system\", \"content\": SYSTEM_PROMPT},\n",
    "            {\"role\": \"user\", \"content\": USER_PROMPT_1},\n",
    "            {\"role\": \"assistant\", \"content\": ASSISTANT_PROMPT_1},\n",
    "            {\"role\": \"user\", \"content\": final_prompt}\n",
    "        ])\n",
    "            \n",
    "    return response['choices'][0]['message']['content'].strip(\" \\n\")\n",
    "    \n",
    "def redact_loc_in_file(searchFileUpVal):\n",
    "    global ruler\n",
    "\n",
    "    redactTypes = [] \n",
    "    \n",
    "    # add selected existing types to redaction types list\n",
    "    for type in entityTypes:\n",
    "        if entityTypes[type]:\n",
    "            redactTypes.append(type)\n",
    "    \n",
    "    patterns = []\n",
    "    allRegEx = []\n",
    "    \n",
    "    gptCallIdx = 0\n",
    "    # generate custom types from examples provided\n",
    "    for file in examples_file_upload.value:\n",
    "         \n",
    "        # read sample data file\n",
    "        fileOpen = open(file['name'], \"r\")\n",
    "        data = fileOpen.read().split(\"\\n\")\n",
    "\n",
    "        if \"SIMPLE REGEX\" in data[0].strip():\n",
    "            # call the chatgpt regex generator with data\n",
    "            dataLst = \"\\n\".join(list(filter(lambda x: x.strip(), data[2:]))) + \"\\n\"\n",
    "            GUIDELINES_PROMPT = \"Examples:\\n\" + dataLst + \"\\n\" + \"Output Format:\\n\" + \"REGEX: [regex expression]\"\n",
    "            dataRegEx = openai_chat_completion_response(GUIDELINES_PROMPT)\n",
    "\n",
    "            gptCallIdx = gptCallIdx + 1\n",
    "            dataRegEx = \"(\" + dataRegEx.replace(\"REGEX:\", \"\").strip() + \")\"\n",
    "            \n",
    "            # add regex expression to patterns\n",
    "            patterns.append({\"label\" : data[1], \"pattern\" : [{\"TEXT\" : {\"REGEX\" : dataRegEx}}]})  \n",
    "            redactTypes.append(data[1])\n",
    "            allRegEx.append((data[1], dataRegEx))\n",
    "            \n",
    "            if gptCallIdx % 3 == 0:\n",
    "                time.sleep(30)\n",
    "            \n",
    "        elif \"FUZZY MATCH\" in data[0].strip():\n",
    "            for line in data[2:]:\n",
    "                if line != \"\":\n",
    "                    patterns.append({\"label\" : data[1], \"pattern\" : [{\"TEXT\": {\"FUZZY\": line}}]}) # fuzzy matching only works for words\n",
    "                    redactTypes.append(data[1])\n",
    "\n",
    "    ruler.add_patterns(patterns)\n",
    "\n",
    "    # generate dictionary containing information to be redacted\n",
    "    redactDict = dict()\n",
    "    \n",
    "    # for each redaction type look at each file to redact\n",
    "    for file in searchFileUpVal:\n",
    "        pdfDoc = fitz.open(file['name'])\n",
    "        \n",
    "        for pgNum in range(len(pdfDoc)):\n",
    "            page = pdfDoc[pgNum]\n",
    "            matches = []\n",
    "            \n",
    "            for block in page.get_text(\"dict\")[\"blocks\"]:\n",
    "                if block['type'] == 0:\n",
    "\n",
    "                    for line in block['lines']:\n",
    "                        for span in line['spans']: \n",
    "\n",
    "                            text = span['text']\n",
    "                            bbox = span['bbox']\n",
    "                            words = page.get_text(\"words\", clip=span['bbox'])\n",
    "    \n",
    "                            # check if text matches any of the regex expressions from files\n",
    "                            foundRegex = False\n",
    "                            for (label, regex) in allRegEx:\n",
    "                                foundTxt = re.findall(regex, text)\n",
    "                                \n",
    "                                if foundTxt:\n",
    "                                    foundRegex = True\n",
    "                                    for txt in foundTxt:\n",
    "                                        matchesP = list(filter(lambda w: remove_punct(w[4]) in remove_punct(txt).split(\" \"), words))\n",
    "                                        matches.append((label, list(map(lambda w: w[0:4], matchesP)))) \n",
    "                                    break\n",
    "                            \n",
    "                            if not foundRegex:\n",
    "                                # looking for words with same entity\n",
    "                                \n",
    "                                doc = nlp(remove_non_ascii(text))\n",
    "                                ents = doc.ents\n",
    "                                \n",
    "                                # if doesn't find an entity for word or finds entity that is not in redact types try longer phrase\n",
    "                                if not ents or list(filter(lambda ent:ent.label_ in redactTypes, ents)) == []:\n",
    "                                    tokens = [t.text for t in doc]\n",
    "                                    if tokens:\n",
    "                                        with doc.retokenize() as retokenizer:\n",
    "                                            retokenizer.merge(doc[0:len(tokens)])\n",
    "                                        ents = doc.ents\n",
    " \n",
    "                                # check for whether the label of current words matches one of the redaction labels\n",
    "                                if ents:  \n",
    "                                    for ent in ents:\n",
    "                                        if ent.label_ in redactTypes:\n",
    "                                            matchesP = list(filter(lambda w: remove_punct(w[4]) in remove_punct(ent.text).split(\" \"), words))\n",
    "                                            matches.append((ent.label_, list(map(lambda w: w[0:4], matchesP)))) \n",
    "                        \n",
    "            for (label, matchesLst) in matches:\n",
    "                if label not in redactDict:\n",
    "                    redactDict[label] = dict()\n",
    "                if file['name'] not in redactDict[label]:\n",
    "                    redactDict[label][file['name']] = []\n",
    "                    \n",
    "                redactDict[label][file['name']] += [(pgNum, match) for match in matchesLst]\n",
    "        pdfDoc.close()\n",
    "\n",
    "    # print(redactDict)\n",
    "    return redactDict\n",
    "    \n",
    "# display files with redactions\n",
    "\n",
    "def open_file(filename, pgNum):\n",
    "    currDir = os.getcwdb()\n",
    "\n",
    "    # opens file in default browser at specific page, NOTE: assumes that file is in current directory and Chrome is installed\n",
    "    fileLoc = \"file:///\" + str(currDir)[2:][:-1] + \"/\" + filename.replace(\" \", \"%20\") + \"#page=\" + str(pgNum)\n",
    "\n",
    "    (webbrowser.get(using='chrome')).open(fileLoc)  \n",
    "    \n",
    "# to clear files after you no longer want redactions\n",
    "fileToClear = ''\n",
    "def clear_file():\n",
    "    if fileToClear != '':\n",
    "        pdfDoc = fitz.open(fileToClear)\n",
    "    \n",
    "        # iterates pages and removes annotations generated by fitz\n",
    "        for pgNum in range(len(pdfDoc)):\n",
    "            page = pdfDoc[pgNum]\n",
    "    \n",
    "            pdfDoc.xref_set_key(page.xref, \"Annots\", \"[]\")\n",
    "        \n",
    "        pdfDoc.save(fileToClear, incremental=True, encryption=fitz.PDF_ENCRYPT_KEEP)\n",
    "        pdfDoc.close()\n",
    "        \n",
    "def clear_btn_click(button): clear_file();\n",
    "clearBtn = widgets.Button(description='Clear')\n",
    "clearBtn.on_click(clear_btn_click)\n",
    "\n",
    "out = widgets.Output(layout={'width': '100%', 'height': '100%'})\n",
    "\n",
    "def generate_btn_on_click(button): show_results()\n",
    "generateBtn = widgets.Button(description=\"Generate Redactions\")\n",
    "generateBtn.on_click(generate_btn_on_click)\n",
    "\n",
    "display(generateBtn, clearBtn, out)\n",
    "\n",
    "def redact_matches(doc, redactLst):  \n",
    "    # iterate through redactions in file \n",
    "    foundPgNum = -1\n",
    "    for (pgNum, bbox) in redactLst:\n",
    "        if foundPgNum == -1:\n",
    "            foundPgNum = pgNum + 1\n",
    "            \n",
    "        pg = doc[pgNum]\n",
    "        red = pg.add_rect_annot(bbox)\n",
    "        red.set_colors(stroke=(0,0,0))\n",
    "        red.update(opacity=0.5, fill_color=(0,0,0))\n",
    "\n",
    "    return foundPgNum\n",
    "    \n",
    "@out.capture()\n",
    "def show_results():\n",
    "    out.clear_output()\n",
    "    \n",
    "    redactDict = redact_loc_in_file(search_file_upload.value)\n",
    "    \n",
    "    for label in redactDict:\n",
    "        display(widgets.Label(value=\"----\"))\n",
    "        \n",
    "        labelEx = widgets.HTML(value=\"<style>p{word-wrap: break-word}</style> <p> Redaction Type: \" + label + \"</p>\")\n",
    "        display(labelEx)\n",
    "\n",
    "        for searchFile in redactDict[label]:\n",
    "            if redactDict[label][searchFile]:\n",
    "                labelSearch = widgets.HTML(value=\"<style>p{word-wrap: break-word}</style> <p> File Name: \" + searchFile + \"</p>\")\n",
    "                display(labelSearch)\n",
    "    \n",
    "                redactButton = widgets.Button(description='Redact')\n",
    "\n",
    "                def on_redact_button_click(button, info=(dict(), \"\", \"\")):\n",
    "                    global fileToClear\n",
    "                    clear_file()\n",
    "                    \n",
    "                    doc = fitz.open(info[2])\n",
    "                    redactLst = info[0][info[1]][info[2]]\n",
    "\n",
    "                    # remove duplicates without changing order\n",
    "                    redactLstP = []\n",
    "                    for e in redactLst:\n",
    "                        if e not in redactLstP:\n",
    "                            redactLstP.append(e)\n",
    "                            \n",
    "                    foundPgNum = redact_matches(doc, redactLstP)\n",
    "                    doc.save(info[2], incremental=True, encryption=fitz.PDF_ENCRYPT_KEEP)\n",
    "                    doc.close()\n",
    "                    \n",
    "                    fileToClear = info[2]\n",
    "                    open_file(info[2], foundPgNum)\n",
    "\n",
    "    \n",
    "                redactButton.on_click(functools.partial(on_redact_button_click, info=(redactDict, label, searchFile)))\n",
    "                display(redactButton)"
   ]
  },
  {
   "cell_type": "code",
   "execution_count": null,
   "metadata": {},
   "outputs": [],
   "source": []
  }
 ],
 "metadata": {
  "kernelspec": {
   "display_name": "senv",
   "language": "python",
   "name": "senv"
  },
  "language_info": {
   "codemirror_mode": {
    "name": "ipython",
    "version": 3
   },
   "file_extension": ".py",
   "mimetype": "text/x-python",
   "name": "python",
   "nbconvert_exporter": "python",
   "pygments_lexer": "ipython3",
   "version": "3.11.0"
  }
 },
 "nbformat": 4,
 "nbformat_minor": 4
}
