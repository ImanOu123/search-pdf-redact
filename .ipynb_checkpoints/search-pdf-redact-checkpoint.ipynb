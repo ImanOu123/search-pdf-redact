{
 "cells": [
  {
   "cell_type": "code",
   "execution_count": 1,
   "metadata": {},
   "outputs": [
    {
     "data": {
      "application/vnd.jupyter.widget-view+json": {
       "model_id": "4fc3b39a8eed4c2193038bfed0283242",
       "version_major": 2,
       "version_minor": 0
      },
      "text/plain": [
       "HTML(value='Upload Files for Searching')"
      ]
     },
     "metadata": {},
     "output_type": "display_data"
    },
    {
     "data": {
      "application/vnd.jupyter.widget-view+json": {
       "model_id": "9ac8e56105564d8486b7f0ad5010fd63",
       "version_major": 2,
       "version_minor": 0
      },
      "text/plain": [
       "FileUpload(value=(), accept='.pdf', description='Upload', multiple=True)"
      ]
     },
     "metadata": {},
     "output_type": "display_data"
    },
    {
     "data": {
      "application/vnd.jupyter.widget-view+json": {
       "model_id": "a663ed66292d4d2d8f0066aa4038a635",
       "version_major": 2,
       "version_minor": 0
      },
      "text/plain": [
       "Output()"
      ]
     },
     "metadata": {},
     "output_type": "display_data"
    }
   ],
   "source": [
    "import ipywidgets as widgets\n",
    "from IPython.display import display\n",
    "import warnings\n",
    "import PyPDF2\n",
    "import datetime\n",
    "import functools\n",
    "\n",
    "warnings.filterwarnings('ignore')\n",
    "\n",
    "# Create the file upload widget\n",
    "search_file_upload = widgets.FileUpload(\n",
    "    accept='.pdf',  # Accepted file types (e.g., '.txt', '.pdf', '.jpg', '.csv', etc.); leave empty for all file types\n",
    "    multiple=True  # Set to True if you want to allow multiple files to be uploaded\n",
    ")\n",
    "\n",
    "fileListOutputSEARCH = widgets.Output()\n",
    "\n",
    "txt = widgets.HTML(\"Upload Files for Searching\")\n",
    "\n",
    "# Display the widget\n",
    "display(txt, search_file_upload, fileListOutputSEARCH)\n",
    "\n",
    "ongFileUploadValsSEARCH = []\n",
    "\n",
    "def on_value_changeSEARCH(change):\n",
    "    global ongFileUploadValsSEARCH\n",
    "    global search_file_upload\n",
    "    \n",
    "    if (ongFileUploadValsSEARCH ==  [] and list(search_file_upload.value) == []) or ongFileUploadValsSEARCH != list(search_file_upload.value):\n",
    "\n",
    "        @fileListOutputSEARCH.capture()\n",
    "        def file_list_output_render():\n",
    "            global ongFileUploadValsSEARCH\n",
    "            \n",
    "            fileListOutputSEARCH.clear_output()\n",
    "            display(widgets.Label(\"Uploaded Files:\"))\n",
    "            \n",
    "            if change != {}:\n",
    "\n",
    "                # set search_file_upload to previous search_file_upload and current search_file_upload files\n",
    "                updatedFileUploadVal = []\n",
    "                for file in ongFileUploadValsSEARCH:\n",
    "                    updatedFileUploadVal.append(file)\n",
    "\n",
    "                for file in search_file_upload.value:\n",
    "                    if file not in updatedFileUploadVal:\n",
    "                        updatedFileUploadVal.append(file)\n",
    "\n",
    "                # update ong_file_upload value\n",
    "                ongFileUploadValsSEARCH = updatedFileUploadVal\n",
    "            \n",
    "                for file in ongFileUploadValsSEARCH:\n",
    "                    # extract number of pages of uploaded files\n",
    "                    \n",
    "                    fileOpen = open(file['name'], 'rb')\n",
    "                    reader = PyPDF2.PdfReader(fileOpen)\n",
    "                    totalPgs = len(reader.pages)\n",
    "                    remButton = widgets.Button(description='Remove')\n",
    "                    \n",
    "                    def remove_button_onclick(button, fileInfo=\"\"):\n",
    "                        global ongFileUploadValsSEARCH\n",
    "                        # update search_file_upload.value to remove chosen file\n",
    "                        newVal = []\n",
    "                        for file in search_file_upload.value:\n",
    "                            if file['name'] != fileInfo:\n",
    "                                newVal.append(file)\n",
    "                        ongFileUploadValsSEARCH = []\n",
    "                        search_file_upload.value = tuple(newVal)\n",
    "                        \n",
    "                    remButton.on_click(functools.partial(remove_button_onclick, fileInfo=file['name']))\n",
    "                    \n",
    "                    display(widgets.Label(\"\\n  file name: \" + file['name'] + \"  #pages: \" + str(totalPgs)), remButton)\n",
    "\n",
    "                    search_file_upload.value = tuple(updatedFileUploadVal)\n",
    "\n",
    "        file_list_output_render()\n",
    "\n",
    "search_file_upload.observe(on_value_changeSEARCH, names='value')"
   ]
  },
  {
   "cell_type": "code",
   "execution_count": 2,
   "metadata": {},
   "outputs": [
    {
     "data": {
      "application/vnd.jupyter.widget-view+json": {
       "model_id": "cce6717189624de1a03b2426b3a9270c",
       "version_major": 2,
       "version_minor": 0
      },
      "text/plain": [
       "HTML(value='Upload Files for Sample Data')"
      ]
     },
     "metadata": {},
     "output_type": "display_data"
    },
    {
     "data": {
      "application/vnd.jupyter.widget-view+json": {
       "model_id": "7895ace57f8b4b69a13e3c43360bbc19",
       "version_major": 2,
       "version_minor": 0
      },
      "text/plain": [
       "FileUpload(value=(), accept='.txt', description='Upload', multiple=True)"
      ]
     },
     "metadata": {},
     "output_type": "display_data"
    },
    {
     "data": {
      "application/vnd.jupyter.widget-view+json": {
       "model_id": "c0963ac3954e440cb3bf4dc3f8b5cc9c",
       "version_major": 2,
       "version_minor": 0
      },
      "text/plain": [
       "Output()"
      ]
     },
     "metadata": {},
     "output_type": "display_data"
    }
   ],
   "source": [
    "# Create the file upload widget\n",
    "examples_file_upload = widgets.FileUpload(\n",
    "    accept='.txt',  # Accepted file types (e.g., '.txt', '.pdf', '.jpg', '.csv', etc.); leave empty for all file types\n",
    "    multiple=True  # Set to True if you want to allow multiple files to be uploaded\n",
    ")\n",
    "\n",
    "fileListOutput = widgets.Output()\n",
    "\n",
    "txtSample = widgets.HTML(\"Upload Files for Sample Data\")\n",
    "\n",
    "# Display the widget\n",
    "display(txtSample, examples_file_upload, fileListOutput)\n",
    "\n",
    "ongFileUploadVals = []\n",
    "\n",
    "def on_value_change(change):\n",
    "    global ongFileUploadVals\n",
    "    global examples_file_upload\n",
    "    \n",
    "    if (ongFileUploadVals ==  [] and list(examples_file_upload.value) == []) or ongFileUploadVals != list(examples_file_upload.value):\n",
    "\n",
    "        @fileListOutput.capture()\n",
    "        def file_list_output_render():\n",
    "            global ongFileUploadVals\n",
    "            \n",
    "            fileListOutput.clear_output()\n",
    "            display(widgets.Label(\"Uploaded Files\"))\n",
    "            \n",
    "            if change != {}:\n",
    "\n",
    "                # set examples_file_upload to previous examples_file_upload and current examples_file_upload files\n",
    "                updatedFileUploadVal = []\n",
    "                for file in ongFileUploadVals:\n",
    "                    updatedFileUploadVal.append(file)\n",
    "\n",
    "                for file in examples_file_upload.value:\n",
    "                    if file not in updatedFileUploadVal:\n",
    "                        updatedFileUploadVal.append(file)\n",
    "\n",
    "                # update ong_file_upload value\n",
    "                ongFileUploadVals = updatedFileUploadVal\n",
    "            \n",
    "                for file in ongFileUploadVals:\n",
    "                    remButton = widgets.Button(description='Remove')\n",
    "                    \n",
    "                    def remove_button_onclick(button, fileInfo=\"\"):\n",
    "                        global ongFileUploadVals\n",
    "                        # update examples_file_upload.value to remove chosen file\n",
    "                        newVal = []\n",
    "                        for file in examples_file_upload.value:\n",
    "                            if file['name'] != fileInfo:\n",
    "                                newVal.append(file)\n",
    "                        ongFileUploadVals = []\n",
    "                        examples_file_upload.value = tuple(newVal)\n",
    "                        \n",
    "                    remButton.on_click(functools.partial(remove_button_onclick, fileInfo=file['name']))\n",
    "                    \n",
    "                    display(widgets.Label(\"\\n  file name: \" + file['name']), remButton)\n",
    "\n",
    "                    examples_file_upload.value = tuple(updatedFileUploadVal)\n",
    "\n",
    "        file_list_output_render()\n",
    "\n",
    "examples_file_upload.observe(on_value_change, names='value')"
   ]
  },
  {
   "cell_type": "code",
   "execution_count": 57,
   "metadata": {},
   "outputs": [
    {
     "data": {
      "application/vnd.jupyter.widget-view+json": {
       "model_id": "075b957c92e84a9fa98a68d794b49ecc",
       "version_major": 2,
       "version_minor": 0
      },
      "text/plain": [
       "Button(description='Generate Redactions', style=ButtonStyle())"
      ]
     },
     "metadata": {},
     "output_type": "display_data"
    },
    {
     "data": {
      "application/vnd.jupyter.widget-view+json": {
       "model_id": "74af201e53ba484fa75b4cef98fa0c1b",
       "version_major": 2,
       "version_minor": 0
      },
      "text/plain": [
       "Button(description='Clear', style=ButtonStyle())"
      ]
     },
     "metadata": {},
     "output_type": "display_data"
    },
    {
     "data": {
      "application/vnd.jupyter.widget-view+json": {
       "model_id": "08964ed29ac043acb97739674816fb3a",
       "version_major": 2,
       "version_minor": 0
      },
      "text/plain": [
       "Output(layout=Layout(height='100%', width='100%'))"
      ]
     },
     "metadata": {},
     "output_type": "display_data"
    }
   ],
   "source": [
    "import re\n",
    "import fitz\n",
    "import os\n",
    "import webbrowser\n",
    "import spacy\n",
    "import string\n",
    "import spacy_transformers\n",
    "\n",
    "# PART ONE: convert sample data to regex expressions\n",
    "\n",
    "# https://www.linkedin.com/pulse/programatically-generating-regular-expressions-from-sample-lee-de-byl/\n",
    "def expr_to_regex(txt, type):\n",
    "    if type == \"0\":\n",
    "        regEx = re.escape(txt)\n",
    "        regEx = re.sub(r'([^A-Za-z0-9]+)', r'(\\1)', regEx)\n",
    "        regEx = re.sub(r'[A-Za-z]+', lambda matchobj: \"([A-Za-z]{\"+ str(matchobj.span()[1]-matchobj.span()[0]) +\"})\", regEx)\n",
    "        regEx = re.sub(r'[0-9]+', lambda matchobj: \"([0-9]{\"+ str(matchobj.span()[1]-matchobj.span()[0]) +\"})\", regEx)\n",
    "    \n",
    "        return '^' + regEx + '$'\n",
    "        \n",
    "    else:\n",
    "        regEx = re.escape(txt)\n",
    "        regEx = re.sub(r'([^A-Za-z0-9]+)', r'(\\1)', regEx)\n",
    "        regEx = re.sub(r'[A-Za-z]+', r'([A-Za-z]+)', regEx)\n",
    "        regEx = re.sub(r'[0-9]+', r'([0-9]+)', regEx)\n",
    "\n",
    "        # print(\"text\", txt, \"regex\", regEx)\n",
    "        return '^' + regEx + '$'\n",
    "    \n",
    "# PART TWO: skim files and redact text that matches regex expressions\n",
    "\n",
    "# nlp = spacy.load(\"en_core_web_trf\") # slow but accurate\n",
    "nlp = spacy.load(\"en_core_web_sm\")\n",
    "\n",
    "def remove_punct(txt):\n",
    "    return txt.translate(str.maketrans('', '', string.punctuation))\n",
    "    \n",
    "def redact_loc_in_file(searchFileUpVal):\n",
    "    \n",
    "    # find type of redaction user wants based on first line of file\n",
    "    redactInfo = dict()\n",
    "    \n",
    "    for file in examples_file_upload.value:\n",
    "         \n",
    "        # read sample data file\n",
    "        fileOpen = open(file['name'], \"r\")\n",
    "        data = fileOpen.read().split(\"\\n\")\n",
    "\n",
    "        if \"SIMPLE REGEX\" in data[0].strip():\n",
    "            # find regex from sample data files\n",
    "            dataRegEx = []\n",
    "            for line in data[1:]:\n",
    "                if expr_to_regex(line, data[0].strip()[-1]) not in dataRegEx:\n",
    "                    dataRegEx.append(expr_to_regex(line, data[0].strip()[-1]))\n",
    "            redactInfo[file['name']] = (\"regex\", dataRegEx)\n",
    "            \n",
    "        elif data[0].strip() == \"ENTITY TYPE\":\n",
    "            # find entity type from sample data files\n",
    "            entityLst = []\n",
    "            for line in data[1:]:\n",
    "                docLine = nlp(line)\n",
    "                if docLine.ents:\n",
    "                    entityLst.append(docLine.ents[0].label_)\n",
    "            if entityLst:\n",
    "                redactInfo[file['name']] = (\"entity\", max(entityLst,key=entityLst.count))\n",
    "            else:\n",
    "                redactInfo[file['name']] = (\"entity\", \"O\")\n",
    "        else:\n",
    "            redactInfo[file['name']] = (\"exact\", data)\n",
    "            \n",
    "    # generate dictionary containing information to be redacted\n",
    "    redactDict = dict()\n",
    "    \n",
    "    # for each example data look at each search file\n",
    "    for file in searchFileUpVal:\n",
    "        pdfDoc = fitz.open(file['name'])\n",
    "        \n",
    "        for pgNum in range(len(pdfDoc)):\n",
    "            page = pdfDoc[pgNum]\n",
    "            \n",
    "            for exFile in redactInfo:\n",
    "                matches = []\n",
    "                \n",
    "                if exFile not in redactDict:\n",
    "                    redactDict[exFile] = dict()\n",
    "                if file['name'] not in redactDict[exFile]:\n",
    "                    redactDict[exFile][file['name']] = []\n",
    "\n",
    "                # regex version looks word-by-word\n",
    "                if redactInfo[exFile][0] == \"regex\":\n",
    "                    words = page.get_text(\"words\")\n",
    "                    \n",
    "                    # looking words that match regex pattern\n",
    "                    for regex in redactInfo[exFile][1]:\n",
    "                        # https://github.com/pymupdf/PyMuPDF/issues/1376\n",
    "                        search = re.compile(regex) \n",
    "\n",
    "                        # \n",
    "                        #     for w in words:\n",
    "                        #         if search.search(w[4]):\n",
    "                        #             print(w[4], regex, search.search(w[4]))\n",
    "\n",
    "                        matches += [w[0:4] for w in words if search.search(w[4]) and w[0:4] not in matches]\n",
    "\n",
    "                # entity version looks phrase-by-phrase\n",
    "                elif redactInfo[exFile][0] == \"entity\" and redactInfo[exFile][1] != \"O\":\n",
    "                    \n",
    "                    for block in page.get_text(\"dict\")[\"blocks\"]:\n",
    "                        if block['type'] == 0:\n",
    "                            for line in block['lines']:\n",
    "                                for span in line['spans']:\n",
    "                                    \n",
    "                                    text = span['text']\n",
    "                                    bbox = span['bbox']\n",
    "                                    words = page.get_text(\"words\", clip=span['bbox'])\n",
    "                                    # looking for words with same entity\n",
    "                                    ents = nlp(text).ents \n",
    "                                    if ents:\n",
    "                                        for ent in ents:\n",
    "                                            if ent.label_ == redactInfo[exFile][1]:\n",
    "                                                matchesP = list(filter(lambda w: remove_punct(w[4]) in remove_punct(ent.text), words))\n",
    "                                                # print(\"matches\", matches)\n",
    "                                                matches += list(map(lambda w: w[0:4], matchesP))\n",
    "                                        \n",
    "                # exact version looks word-by-word\n",
    "                else:\n",
    "                    # looking for words with exact matches \n",
    "                    words = page.get_text(\"words\")\n",
    "\n",
    "                    matches = [w[0:4] for w in words if w[4] in redactInfo[exFile][1]]\n",
    "                   \n",
    "                redactDict[exFile][file['name']] += [(pgNum, match) for match in matches]\n",
    "    \n",
    "    return redactDict\n",
    "        \n",
    "# display files with redactions\n",
    "\n",
    "def open_file(filename, pgNum):\n",
    "    currDir = os.getcwdb()\n",
    "\n",
    "    # opens file in default browser at specific page, NOTE: assumes that file is in current directory and Chrome is installed\n",
    "    fileLoc = \"file:///\" + str(currDir)[2:][:-1] + \"/\" + filename.replace(\" \", \"%20\") + \"#page=\" + str(pgNum)\n",
    "\n",
    "    (webbrowser.get(using='chrome')).open(fileLoc)  \n",
    "    \n",
    "# to clear files after you no longer want redactions\n",
    "fileToClear = ''\n",
    "def clear_file():\n",
    "    if fileToClear != '':\n",
    "        pdfDoc = fitz.open(fileToClear)\n",
    "    \n",
    "        # iterates pages and removes annotations generated by fitz\n",
    "        for pgNum in range(len(pdfDoc)):\n",
    "            page = pdfDoc[pgNum]\n",
    "    \n",
    "            pdfDoc.xref_set_key(page.xref, \"Annots\", \"[]\")\n",
    "        \n",
    "        pdfDoc.save(fileToClear, incremental=True, encryption=fitz.PDF_ENCRYPT_KEEP)\n",
    "        \n",
    "def clear_btn_click(button): clear_file();\n",
    "clearBtn = widgets.Button(description='Clear')\n",
    "clearBtn.on_click(clear_btn_click)\n",
    "\n",
    "out = widgets.Output(layout={'width': '100%', 'height': '100%'})\n",
    "\n",
    "def generate_btn_on_click(button): show_results()\n",
    "generateBtn = widgets.Button(description=\"Generate Redactions\")\n",
    "generateBtn.on_click(generate_btn_on_click)\n",
    "\n",
    "display(generateBtn, clearBtn, out)\n",
    "\n",
    "def redact_matches(doc, redactLst):  \n",
    "    # iterate through redactions in file \n",
    "    foundPgNum = -1\n",
    "    for (pgNum, bbox) in redactLst:\n",
    "        if foundPgNum == -1:\n",
    "            foundPgNum = pgNum + 1\n",
    "        \n",
    "        pg = doc[pgNum]\n",
    "        red = pg.add_rect_annot(bbox)\n",
    "        red.set_colors(stroke=(0,0,0))\n",
    "        red.update(opacity=0.5, fill_color=(0,0,0))\n",
    "\n",
    "    return foundPgNum\n",
    "    \n",
    "@out.capture()\n",
    "def show_results():\n",
    "    redactDict = redact_loc_in_file(search_file_upload.value)\n",
    "    \n",
    "    for exFile in redactDict:\n",
    "        labelEx = widgets.HTML(value=\"<style>p{word-wrap: break-word}</style> <p> Redaction Expressions File Name: \" + exFile + \"</p>\")\n",
    "        display(labelEx)\n",
    "\n",
    "        for searchFile in redactDict[exFile]:\n",
    "            if redactDict[exFile][searchFile]:\n",
    "                labelSearch = widgets.HTML(value=\"<style>p{word-wrap: break-word}</style> <p> File Name: \" + searchFile + \"</p>\")\n",
    "                display(labelSearch)\n",
    "    \n",
    "                redactButton = widgets.Button(description='Redact')\n",
    "\n",
    "                def on_redact_button_click(button, info=(dict(), \"\", \"\")):\n",
    "                    global fileToClear\n",
    "                    clear_file()\n",
    "                    \n",
    "                    doc = fitz.open(info[2])\n",
    "                    foundPgNum = redact_matches(doc, info[0][info[1]][info[2]])\n",
    "                    doc.save(info[2], incremental=True, encryption=fitz.PDF_ENCRYPT_KEEP)\n",
    "                    \n",
    "                    fileToClear = info[2]\n",
    "                    open_file(info[2], foundPgNum)\n",
    "    \n",
    "                redactButton.on_click(functools.partial(on_redact_button_click, info=(redactDict, exFile, searchFile)))\n",
    "                display(redactButton)"
   ]
  },
  {
   "cell_type": "code",
   "execution_count": 4,
   "metadata": {},
   "outputs": [
    {
     "name": "stdout",
     "output_type": "stream",
     "text": [
      "The Indian Space Research Organisation ORG\n",
      "India GPE\n",
      "Bengaluru GPE\n",
      "Department of Space ORG\n",
      "India GPE\n",
      "ISRO ORG\n",
      "DOS ORG\n"
     ]
    }
   ],
   "source": [
    "# import spacy\n",
    "\n",
    "# NER = spacy.load(\"en_core_web_trf\")\n",
    "# raw_text=\"The Indian Space Research Organisation or is the national space agency of India, headquartered in Bengaluru. It operates under Department of Space which is directly overseen by the Prime Minister of India while Chairman of ISRO acts as executive of DOS as well.\"\n",
    "# docLine = NER(raw_text)\n",
    "# for ent in docLine.ents:\n",
    "#     print(ent.text, ent.label_)"
   ]
  },
  {
   "cell_type": "code",
   "execution_count": 31,
   "metadata": {},
   "outputs": [
    {
     "name": "stdout",
     "output_type": "stream",
     "text": [
      "^([A-Za-z]+)$\n"
     ]
    }
   ],
   "source": [
    "# def id_to_regex(id):\n",
    "#     x = re.escape(id)\n",
    "#     # x = re.sub(r\"(@)\", r'(\\1)', x)\n",
    "#     x = re.sub(r'([^A-Za-z0-9]+)', r'(\\1)', x)\n",
    "#     x = re.sub(r'[A-Za-z]+', r'([A-Za-z]+)', x)\n",
    "#     x = re.sub(r'[0-9]+', r'([0-9]+)', x)\n",
    "#     return '^' + x + '$'\n",
    "\n",
    "# print(id_to_regex(\"Iman\"))"
   ]
  },
  {
   "cell_type": "code",
   "execution_count": null,
   "metadata": {},
   "outputs": [],
   "source": []
  }
 ],
 "metadata": {
  "kernelspec": {
   "display_name": "senv",
   "language": "python",
   "name": "senv"
  },
  "language_info": {
   "codemirror_mode": {
    "name": "ipython",
    "version": 3
   },
   "file_extension": ".py",
   "mimetype": "text/x-python",
   "name": "python",
   "nbconvert_exporter": "python",
   "pygments_lexer": "ipython3",
   "version": "3.11.0"
  }
 },
 "nbformat": 4,
 "nbformat_minor": 4
}
